{
 "cells": [
  {
   "cell_type": "code",
   "execution_count": 1,
   "id": "ruled-stephen",
   "metadata": {},
   "outputs": [],
   "source": [
    "import warnings\n",
    "warnings.filterwarnings('ignore')"
   ]
  },
  {
   "cell_type": "code",
   "execution_count": 2,
   "id": "southwest-strip",
   "metadata": {},
   "outputs": [],
   "source": [
    "import json\n",
    "import pandas as pd\n",
    "import numpy as np\n",
    "from pathlib import Path\n",
    "\n",
    "\n",
    "from matplotlib import pyplot as plt\n",
    "\n",
    "\n",
    "import warnings\n",
    "warnings.filterwarnings('ignore')"
   ]
  },
  {
   "cell_type": "code",
   "execution_count": 3,
   "id": "cardiac-vertex",
   "metadata": {},
   "outputs": [],
   "source": [
    "## Предоброботка данных\n"
   ]
  },
  {
   "cell_type": "code",
   "execution_count": 4,
   "id": "impressive-disclosure",
   "metadata": {},
   "outputs": [],
   "source": [
    "path_work_file = Path('/home/owl/PycharmProjects/Questions_search_task/dataset_of_questions/root_dataset.csv')  # /'root_dataset.txt'\n",
    "\n",
    "data_sentenes = pd.read_csv(path_work_file, sep='\\t', names=['Line informatation', 'Sign'])"
   ]
  },
  {
   "cell_type": "code",
   "execution_count": 5,
   "id": "emotional-kingston",
   "metadata": {},
   "outputs": [
    {
     "data": {
      "text/plain": [
       "11214821"
      ]
     },
     "execution_count": 5,
     "metadata": {},
     "output_type": "execute_result"
    }
   ],
   "source": [
    "data_sentenes['Sign'].size"
   ]
  },
  {
   "cell_type": "code",
   "execution_count": 6,
   "id": "spare-drink",
   "metadata": {},
   "outputs": [
    {
     "data": {
      "text/html": [
       "<div>\n",
       "<style scoped>\n",
       "    .dataframe tbody tr th:only-of-type {\n",
       "        vertical-align: middle;\n",
       "    }\n",
       "\n",
       "    .dataframe tbody tr th {\n",
       "        vertical-align: top;\n",
       "    }\n",
       "\n",
       "    .dataframe thead th {\n",
       "        text-align: right;\n",
       "    }\n",
       "</style>\n",
       "<table border=\"1\" class=\"dataframe\">\n",
       "  <thead>\n",
       "    <tr style=\"text-align: right;\">\n",
       "      <th></th>\n",
       "      <th>Line informatation</th>\n",
       "      <th>Sign</th>\n",
       "    </tr>\n",
       "  </thead>\n",
       "  <tbody>\n",
       "    <tr>\n",
       "      <th>11214811</th>\n",
       "      <td>Это излучение и фиксируют камеры.Сами органиче...</td>\n",
       "      <td>.</td>\n",
       "    </tr>\n",
       "    <tr>\n",
       "      <th>11214812</th>\n",
       "      <td>Они реагируют на локальную концентрацию кислор...</td>\n",
       "      <td>.</td>\n",
       "    </tr>\n",
       "    <tr>\n",
       "      <th>11214813</th>\n",
       "      <td>Сегодня метод люминисцентных преобразователей ...</td>\n",
       "      <td>.</td>\n",
       "    </tr>\n",
       "    <tr>\n",
       "      <th>11214814</th>\n",
       "      <td>После отработки исследовательского метода разр...</td>\n",
       "      <td>.</td>\n",
       "    </tr>\n",
       "    <tr>\n",
       "      <th>11214815</th>\n",
       "      <td>Так называют один из видов автоколебаний конст...</td>\n",
       "      <td>.</td>\n",
       "    </tr>\n",
       "    <tr>\n",
       "      <th>11214816</th>\n",
       "      <td>Хотя в целом причины возникновения бафтинга из...</td>\n",
       "      <td>.</td>\n",
       "    </tr>\n",
       "    <tr>\n",
       "      <th>11214817</th>\n",
       "      <td>Этот метод не дает высокого разрешения.Помимо ...</td>\n",
       "      <td>.</td>\n",
       "    </tr>\n",
       "    <tr>\n",
       "      <th>11214818</th>\n",
       "      <td>В случае с шелковинками на поверхности модели ...</td>\n",
       "      <td>.</td>\n",
       "    </tr>\n",
       "    <tr>\n",
       "      <th>11214819</th>\n",
       "      <td>По их колебанию и судят об аэродинамической фо...</td>\n",
       "      <td>.</td>\n",
       "    </tr>\n",
       "    <tr>\n",
       "      <th>11214820</th>\n",
       "      <td>В случае с цветной масляной пленкой , некоторы...</td>\n",
       "      <td>Сычёв</td>\n",
       "    </tr>\n",
       "  </tbody>\n",
       "</table>\n",
       "</div>"
      ],
      "text/plain": [
       "                                         Line informatation   Sign\n",
       "11214811  Это излучение и фиксируют камеры.Сами органиче...      .\n",
       "11214812  Они реагируют на локальную концентрацию кислор...      .\n",
       "11214813  Сегодня метод люминисцентных преобразователей ...      .\n",
       "11214814  После отработки исследовательского метода разр...      .\n",
       "11214815  Так называют один из видов автоколебаний конст...      .\n",
       "11214816  Хотя в целом причины возникновения бафтинга из...      .\n",
       "11214817  Этот метод не дает высокого разрешения.Помимо ...      .\n",
       "11214818  В случае с шелковинками на поверхности модели ...      .\n",
       "11214819  По их колебанию и судят об аэродинамической фо...      .\n",
       "11214820  В случае с цветной масляной пленкой , некоторы...  Сычёв"
      ]
     },
     "execution_count": 6,
     "metadata": {},
     "output_type": "execute_result"
    }
   ],
   "source": [
    "data_sentenes.tail(10)"
   ]
  },
  {
   "cell_type": "code",
   "execution_count": 7,
   "id": "south-vision",
   "metadata": {},
   "outputs": [],
   "source": [
    "# from tqdm import tqdm \n",
    "signs = ['?', '.', ';', '!', ',', '...', ':']\n",
    "data_sentenes = data_sentenes.loc[data_sentenes['Sign'].isin(signs)]  # Удаление всех строк, если содержание столбца \"Sign\" нет в списке допустимых символов |signs: List |"
   ]
  },
  {
   "cell_type": "code",
   "execution_count": 8,
   "id": "analyzed-simple",
   "metadata": {},
   "outputs": [
    {
     "data": {
      "text/plain": [
       "9145180"
      ]
     },
     "execution_count": 8,
     "metadata": {},
     "output_type": "execute_result"
    }
   ],
   "source": [
    "data_sentenes['Sign'].size"
   ]
  },
  {
   "cell_type": "code",
   "execution_count": 9,
   "id": "norwegian-armor",
   "metadata": {},
   "outputs": [
    {
     "name": "stdout",
     "output_type": "stream",
     "text": [
      "Предложений с мусором: 0\n",
      "Всего предложений:     9145180\n"
     ]
    }
   ],
   "source": [
    "count_trash = 0\n",
    "all_count = 0\n",
    "for sign in data_sentenes['Sign']:\n",
    "    if sign not in signs:\n",
    "        count_trash += 1\n",
    "    else:\n",
    "        all_count += 1\n",
    "print(f'Предложений с мусором: {count_trash}')\n",
    "print(f'Всего предложений:     {all_count}')"
   ]
  },
  {
   "cell_type": "markdown",
   "id": "entertaining-company",
   "metadata": {},
   "source": [
    "### Удаление пропущеных значений в строках"
   ]
  },
  {
   "cell_type": "code",
   "execution_count": 10,
   "id": "contrary-reality",
   "metadata": {},
   "outputs": [
    {
     "data": {
      "text/plain": [
       "43123"
      ]
     },
     "execution_count": 10,
     "metadata": {},
     "output_type": "execute_result"
    }
   ],
   "source": [
    "data_sentenes['Line informatation'].isnull().sum()"
   ]
  },
  {
   "cell_type": "code",
   "execution_count": 11,
   "id": "centered-latvia",
   "metadata": {},
   "outputs": [],
   "source": [
    "data_sentenes = data_sentenes.dropna()"
   ]
  },
  {
   "cell_type": "code",
   "execution_count": 12,
   "id": "immediate-arizona",
   "metadata": {},
   "outputs": [
    {
     "data": {
      "text/plain": [
       "0"
      ]
     },
     "execution_count": 12,
     "metadata": {},
     "output_type": "execute_result"
    }
   ],
   "source": [
    "data_sentenes['Line informatation'].isnull().sum()"
   ]
  },
  {
   "cell_type": "markdown",
   "id": "adjustable-musical",
   "metadata": {},
   "source": [
    "### Предобработка"
   ]
  },
  {
   "cell_type": "code",
   "execution_count": 13,
   "id": "editorial-scope",
   "metadata": {},
   "outputs": [
    {
     "name": "stdout",
     "output_type": "stream",
     "text": [
      "{'end_sent_count': {'?': 531872, '.': 7810430, ';': 33169, '!': 538016, ',': 30556, '...': 112030, ':': 45984}}\n",
      "Предложение с мусором: 0\n"
     ]
    }
   ],
   "source": [
    "sign_dict = {'end_sent_count': {'?': 0, '.': 0, ';': 0, '!': 0, ',': 0, '...': 0, ':': 0}}\n",
    "\n",
    "count_error = 0\n",
    "for sign in data_sentenes['Sign']:\n",
    "    if sign in signs:\n",
    "        sign_dict['end_sent_count'][sign] += 1\n",
    "    else:\n",
    "        count_error +=1\n",
    "        \n",
    "print(sign_dict)\n",
    "print(f'Предложение с мусором: {count_error}')"
   ]
  },
  {
   "cell_type": "code",
   "execution_count": 14,
   "id": "twelve-revelation",
   "metadata": {},
   "outputs": [
    {
     "data": {
      "text/plain": [
       "9102057"
      ]
     },
     "execution_count": 14,
     "metadata": {},
     "output_type": "execute_result"
    }
   ],
   "source": [
    "data_sentenes['Sign'].size"
   ]
  },
  {
   "cell_type": "code",
   "execution_count": 15,
   "id": "compressed-heaven",
   "metadata": {},
   "outputs": [
    {
     "data": {
      "text/html": [
       "<div>\n",
       "<style scoped>\n",
       "    .dataframe tbody tr th:only-of-type {\n",
       "        vertical-align: middle;\n",
       "    }\n",
       "\n",
       "    .dataframe tbody tr th {\n",
       "        vertical-align: top;\n",
       "    }\n",
       "\n",
       "    .dataframe thead th {\n",
       "        text-align: right;\n",
       "    }\n",
       "</style>\n",
       "<table border=\"1\" class=\"dataframe\">\n",
       "  <thead>\n",
       "    <tr style=\"text-align: right;\">\n",
       "      <th></th>\n",
       "      <th>Line informatation</th>\n",
       "      <th>Sign</th>\n",
       "    </tr>\n",
       "  </thead>\n",
       "  <tbody>\n",
       "    <tr>\n",
       "      <th>11214810</th>\n",
       "      <td>В ответ на облучение краска начинает испускать...</td>\n",
       "      <td>.</td>\n",
       "    </tr>\n",
       "    <tr>\n",
       "      <th>11214811</th>\n",
       "      <td>Это излучение и фиксируют камеры.Сами органиче...</td>\n",
       "      <td>.</td>\n",
       "    </tr>\n",
       "    <tr>\n",
       "      <th>11214812</th>\n",
       "      <td>Они реагируют на локальную концентрацию кислор...</td>\n",
       "      <td>.</td>\n",
       "    </tr>\n",
       "    <tr>\n",
       "      <th>11214813</th>\n",
       "      <td>Сегодня метод люминисцентных преобразователей ...</td>\n",
       "      <td>.</td>\n",
       "    </tr>\n",
       "    <tr>\n",
       "      <th>11214814</th>\n",
       "      <td>После отработки исследовательского метода разр...</td>\n",
       "      <td>.</td>\n",
       "    </tr>\n",
       "    <tr>\n",
       "      <th>11214815</th>\n",
       "      <td>Так называют один из видов автоколебаний конст...</td>\n",
       "      <td>.</td>\n",
       "    </tr>\n",
       "    <tr>\n",
       "      <th>11214816</th>\n",
       "      <td>Хотя в целом причины возникновения бафтинга из...</td>\n",
       "      <td>.</td>\n",
       "    </tr>\n",
       "    <tr>\n",
       "      <th>11214817</th>\n",
       "      <td>Этот метод не дает высокого разрешения.Помимо ...</td>\n",
       "      <td>.</td>\n",
       "    </tr>\n",
       "    <tr>\n",
       "      <th>11214818</th>\n",
       "      <td>В случае с шелковинками на поверхности модели ...</td>\n",
       "      <td>.</td>\n",
       "    </tr>\n",
       "    <tr>\n",
       "      <th>11214819</th>\n",
       "      <td>По их колебанию и судят об аэродинамической фо...</td>\n",
       "      <td>.</td>\n",
       "    </tr>\n",
       "  </tbody>\n",
       "</table>\n",
       "</div>"
      ],
      "text/plain": [
       "                                         Line informatation Sign\n",
       "11214810  В ответ на облучение краска начинает испускать...    .\n",
       "11214811  Это излучение и фиксируют камеры.Сами органиче...    .\n",
       "11214812  Они реагируют на локальную концентрацию кислор...    .\n",
       "11214813  Сегодня метод люминисцентных преобразователей ...    .\n",
       "11214814  После отработки исследовательского метода разр...    .\n",
       "11214815  Так называют один из видов автоколебаний конст...    .\n",
       "11214816  Хотя в целом причины возникновения бафтинга из...    .\n",
       "11214817  Этот метод не дает высокого разрешения.Помимо ...    .\n",
       "11214818  В случае с шелковинками на поверхности модели ...    .\n",
       "11214819  По их колебанию и судят об аэродинамической фо...    ."
      ]
     },
     "execution_count": 15,
     "metadata": {},
     "output_type": "execute_result"
    }
   ],
   "source": [
    "data_sentenes.tail(10)"
   ]
  },
  {
   "cell_type": "markdown",
   "id": "rubber-patient",
   "metadata": {},
   "source": [
    "## ---------------------------------------------------------------------------------------------------------------------------------------------------------"
   ]
  },
  {
   "cell_type": "markdown",
   "id": "following-brother",
   "metadata": {},
   "source": [
    "Варианты удаления строки из dataframe:\n",
    "    1) фильтруем по одному значению: df = df.loc[df['STP'] != 1005092]\n",
    "    2) можно указать несколько значений: df = df.loc[~df['STP'].isin([1005092])]\n",
    "    Вариант 3: фильтруем по одному значению: df = df.query(\"STP != 1005092\")\n",
    "    Вариант 4: можно указать несколько значений: df = df.query(\"STP not in [1005092, ...]\")\n",
    "    Вариант 5: df = df.drop(np.where(df['STP'] == 1005092)[0])"
   ]
  },
  {
   "cell_type": "code",
   "execution_count": 16,
   "id": "violent-young",
   "metadata": {},
   "outputs": [],
   "source": [
    "# from tqdm import tqdm \n",
    "\n",
    "# signs = ['?', '.', ';', '!', ',', '...', ':']\n",
    "\n",
    "# for sign in tqdm(enumerate(data_sentenes['Sign']), total=11214821):  # tqdm(enumerate(read_file), total=11214821)\n",
    "#     if sign not in signs:\n",
    "#         data_sentenes.drop(index=data_sentenes.index, inplace=True)"
   ]
  },
  {
   "cell_type": "markdown",
   "id": "annoying-raleigh",
   "metadata": {},
   "source": [
    "## ---------------------------------------------------------------------------------------------------------------------------------------------------------"
   ]
  },
  {
   "cell_type": "markdown",
   "id": "interracial-biography",
   "metadata": {},
   "source": [
    "# Балансировка классов"
   ]
  },
  {
   "cell_type": "markdown",
   "id": "transparent-carbon",
   "metadata": {},
   "source": [
    "Так как у нас задача бинарной классификации, а именно: важно понять предложение вопросительный характер - \"1\" или нет - \"0\"(То есть все прочие знаки). То Появляется необходимость в соблюдении баланса классво.\n",
    "Если говорить конкретнее: \n",
    "                                     \"?\": 541 126 обьектов КЛАССА - \"1\". \n",
    "                         Столько же обьектов сделаем и для КЛАССА - \"0\".\n",
    "Для упрощения сделаем 540 000 обьектов для классов \"1\", \"0\"\n",
    "\n",
    "\n",
    "При этом важно сохранить пропорцию объектов из класса \"0\". Так как в реальных примерах для модели вероятность встретить предложение определенного характера будет совпадать с нашими данным - исходя их статистики.\n",
    "\n",
    "\n",
    "\n",
    "Для этого посчитаем процентное соотношение обьектов различных знаков по отношению ко всем предложениям за вычетом вопросительных, их в отдельную выборку.\n",
    "после чего через train.test.split поставим необходимое соотношение в оставшейся выборке и соединим её с уже имеющейся выборкой вопросительных знаков"
   ]
  },
  {
   "cell_type": "code",
   "execution_count": 17,
   "id": "heard-chicago",
   "metadata": {},
   "outputs": [],
   "source": [
    "data_of_question = {'Line informatation': [], 'Sign': []}\n",
    "data_of_question = pd.DataFrame(data_of_question)"
   ]
  },
  {
   "cell_type": "code",
   "execution_count": 18,
   "id": "covered-husband",
   "metadata": {},
   "outputs": [
    {
     "data": {
      "text/html": [
       "<div>\n",
       "<style scoped>\n",
       "    .dataframe tbody tr th:only-of-type {\n",
       "        vertical-align: middle;\n",
       "    }\n",
       "\n",
       "    .dataframe tbody tr th {\n",
       "        vertical-align: top;\n",
       "    }\n",
       "\n",
       "    .dataframe thead th {\n",
       "        text-align: right;\n",
       "    }\n",
       "</style>\n",
       "<table border=\"1\" class=\"dataframe\">\n",
       "  <thead>\n",
       "    <tr style=\"text-align: right;\">\n",
       "      <th></th>\n",
       "      <th>Line informatation</th>\n",
       "      <th>Sign</th>\n",
       "    </tr>\n",
       "  </thead>\n",
       "  <tbody>\n",
       "  </tbody>\n",
       "</table>\n",
       "</div>"
      ],
      "text/plain": [
       "Empty DataFrame\n",
       "Columns: [Line informatation, Sign]\n",
       "Index: []"
      ]
     },
     "execution_count": 18,
     "metadata": {},
     "output_type": "execute_result"
    }
   ],
   "source": [
    "data_of_question.head()"
   ]
  },
  {
   "cell_type": "code",
   "execution_count": 19,
   "id": "advisory-storm",
   "metadata": {},
   "outputs": [
    {
     "data": {
      "text/plain": [
       "9102057"
      ]
     },
     "execution_count": 19,
     "metadata": {},
     "output_type": "execute_result"
    }
   ],
   "source": [
    "data_sentenes['Sign'].size"
   ]
  },
  {
   "cell_type": "code",
   "execution_count": 20,
   "id": "thrown-favor",
   "metadata": {},
   "outputs": [],
   "source": [
    "data_of_question = data_sentenes.loc[data_sentenes['Sign'] == '?']  # Создаем датасет содержащий только вопросы"
   ]
  },
  {
   "cell_type": "code",
   "execution_count": 21,
   "id": "northern-segment",
   "metadata": {},
   "outputs": [],
   "source": [
    "data_sentenes = data_sentenes.loc[data_sentenes['Sign'] != '?']  # Избавляемся в основном датасете предложений от предложений с вопросом"
   ]
  },
  {
   "cell_type": "markdown",
   "id": "touched-brazilian",
   "metadata": {},
   "source": [
    "Теперь мы имеем два датасета - **data_of_question** (что содержит только вопросы. Он же датасет класса 1 )\n",
    "и **data_sentenes** (что содержит все предложения кроме вопросительных. Он же датасет класса 0)"
   ]
  },
  {
   "cell_type": "code",
   "execution_count": 22,
   "id": "orange-durham",
   "metadata": {},
   "outputs": [
    {
     "name": "stdout",
     "output_type": "stream",
     "text": [
      "8570185\n",
      "531872\n"
     ]
    }
   ],
   "source": [
    "print(data_sentenes['Sign'].size)\n",
    "print(data_of_question['Sign'].size)"
   ]
  },
  {
   "cell_type": "code",
   "execution_count": 23,
   "id": "bottom-saturday",
   "metadata": {},
   "outputs": [
    {
     "data": {
      "text/html": [
       "<div>\n",
       "<style scoped>\n",
       "    .dataframe tbody tr th:only-of-type {\n",
       "        vertical-align: middle;\n",
       "    }\n",
       "\n",
       "    .dataframe tbody tr th {\n",
       "        vertical-align: top;\n",
       "    }\n",
       "\n",
       "    .dataframe thead th {\n",
       "        text-align: right;\n",
       "    }\n",
       "</style>\n",
       "<table border=\"1\" class=\"dataframe\">\n",
       "  <thead>\n",
       "    <tr style=\"text-align: right;\">\n",
       "      <th></th>\n",
       "      <th>Line informatation</th>\n",
       "      <th>Sign</th>\n",
       "    </tr>\n",
       "  </thead>\n",
       "  <tbody>\n",
       "    <tr>\n",
       "      <th>391</th>\n",
       "      <td>Остается главный вопрос – дойдет ли дело до ро...</td>\n",
       "      <td>?</td>\n",
       "    </tr>\n",
       "    <tr>\n",
       "      <th>721</th>\n",
       "      <td>Вопрос - куда</td>\n",
       "      <td>?</td>\n",
       "    </tr>\n",
       "    <tr>\n",
       "      <th>742</th>\n",
       "      <td>« Высотный регламент » или творчество</td>\n",
       "      <td>?</td>\n",
       "    </tr>\n",
       "    <tr>\n",
       "      <th>743</th>\n",
       "      <td>Оживленная дискуссия о современном облике дело...</td>\n",
       "      <td>?</td>\n",
       "    </tr>\n",
       "    <tr>\n",
       "      <th>744</th>\n",
       "      <td>Хотим ли мы , чтобы потомки , рассматривая дос...</td>\n",
       "      <td>?</td>\n",
       "    </tr>\n",
       "    <tr>\n",
       "      <th>745</th>\n",
       "      <td>И какую роль мы , питерцы , для себя отводим :...</td>\n",
       "      <td>?</td>\n",
       "    </tr>\n",
       "    <tr>\n",
       "      <th>783</th>\n",
       "      <td>То же самое касается живописи , театра , кинем...</td>\n",
       "      <td>?</td>\n",
       "    </tr>\n",
       "    <tr>\n",
       "      <th>784</th>\n",
       "      <td>И абсолютно дискуссионным является вопрос о то...</td>\n",
       "      <td>?</td>\n",
       "    </tr>\n",
       "    <tr>\n",
       "      <th>787</th>\n",
       "      <td>К чему это приведет</td>\n",
       "      <td>?</td>\n",
       "    </tr>\n",
       "    <tr>\n",
       "      <th>1225</th>\n",
       "      <td>Но разве можно в марокканской пустыне всем под...</td>\n",
       "      <td>?</td>\n",
       "    </tr>\n",
       "  </tbody>\n",
       "</table>\n",
       "</div>"
      ],
      "text/plain": [
       "                                     Line informatation Sign\n",
       "391   Остается главный вопрос – дойдет ли дело до ро...    ?\n",
       "721                                       Вопрос - куда    ?\n",
       "742               « Высотный регламент » или творчество    ?\n",
       "743   Оживленная дискуссия о современном облике дело...    ?\n",
       "744   Хотим ли мы , чтобы потомки , рассматривая дос...    ?\n",
       "745   И какую роль мы , питерцы , для себя отводим :...    ?\n",
       "783   То же самое касается живописи , театра , кинем...    ?\n",
       "784   И абсолютно дискуссионным является вопрос о то...    ?\n",
       "787                                 К чему это приведет    ?\n",
       "1225  Но разве можно в марокканской пустыне всем под...    ?"
      ]
     },
     "execution_count": 23,
     "metadata": {},
     "output_type": "execute_result"
    }
   ],
   "source": [
    "data_of_question.head(10)"
   ]
  },
  {
   "cell_type": "code",
   "execution_count": 24,
   "id": "severe-houston",
   "metadata": {},
   "outputs": [],
   "source": [
    "data_of_question.index = np.arange(len(data_of_question))  #  даем новые, корректные индексы"
   ]
  },
  {
   "cell_type": "code",
   "execution_count": 25,
   "id": "popular-sheet",
   "metadata": {},
   "outputs": [
    {
     "data": {
      "text/html": [
       "<div>\n",
       "<style scoped>\n",
       "    .dataframe tbody tr th:only-of-type {\n",
       "        vertical-align: middle;\n",
       "    }\n",
       "\n",
       "    .dataframe tbody tr th {\n",
       "        vertical-align: top;\n",
       "    }\n",
       "\n",
       "    .dataframe thead th {\n",
       "        text-align: right;\n",
       "    }\n",
       "</style>\n",
       "<table border=\"1\" class=\"dataframe\">\n",
       "  <thead>\n",
       "    <tr style=\"text-align: right;\">\n",
       "      <th></th>\n",
       "      <th>Line informatation</th>\n",
       "      <th>Sign</th>\n",
       "    </tr>\n",
       "  </thead>\n",
       "  <tbody>\n",
       "    <tr>\n",
       "      <th>0</th>\n",
       "      <td>Остается главный вопрос – дойдет ли дело до ро...</td>\n",
       "      <td>?</td>\n",
       "    </tr>\n",
       "    <tr>\n",
       "      <th>1</th>\n",
       "      <td>Вопрос - куда</td>\n",
       "      <td>?</td>\n",
       "    </tr>\n",
       "    <tr>\n",
       "      <th>2</th>\n",
       "      <td>« Высотный регламент » или творчество</td>\n",
       "      <td>?</td>\n",
       "    </tr>\n",
       "    <tr>\n",
       "      <th>3</th>\n",
       "      <td>Оживленная дискуссия о современном облике дело...</td>\n",
       "      <td>?</td>\n",
       "    </tr>\n",
       "    <tr>\n",
       "      <th>4</th>\n",
       "      <td>Хотим ли мы , чтобы потомки , рассматривая дос...</td>\n",
       "      <td>?</td>\n",
       "    </tr>\n",
       "    <tr>\n",
       "      <th>5</th>\n",
       "      <td>И какую роль мы , питерцы , для себя отводим :...</td>\n",
       "      <td>?</td>\n",
       "    </tr>\n",
       "    <tr>\n",
       "      <th>6</th>\n",
       "      <td>То же самое касается живописи , театра , кинем...</td>\n",
       "      <td>?</td>\n",
       "    </tr>\n",
       "    <tr>\n",
       "      <th>7</th>\n",
       "      <td>И абсолютно дискуссионным является вопрос о то...</td>\n",
       "      <td>?</td>\n",
       "    </tr>\n",
       "    <tr>\n",
       "      <th>8</th>\n",
       "      <td>К чему это приведет</td>\n",
       "      <td>?</td>\n",
       "    </tr>\n",
       "    <tr>\n",
       "      <th>9</th>\n",
       "      <td>Но разве можно в марокканской пустыне всем под...</td>\n",
       "      <td>?</td>\n",
       "    </tr>\n",
       "  </tbody>\n",
       "</table>\n",
       "</div>"
      ],
      "text/plain": [
       "                                  Line informatation Sign\n",
       "0  Остается главный вопрос – дойдет ли дело до ро...    ?\n",
       "1                                      Вопрос - куда    ?\n",
       "2              « Высотный регламент » или творчество    ?\n",
       "3  Оживленная дискуссия о современном облике дело...    ?\n",
       "4  Хотим ли мы , чтобы потомки , рассматривая дос...    ?\n",
       "5  И какую роль мы , питерцы , для себя отводим :...    ?\n",
       "6  То же самое касается живописи , театра , кинем...    ?\n",
       "7  И абсолютно дискуссионным является вопрос о то...    ?\n",
       "8                                К чему это приведет    ?\n",
       "9  Но разве можно в марокканской пустыне всем под...    ?"
      ]
     },
     "execution_count": 25,
     "metadata": {},
     "output_type": "execute_result"
    }
   ],
   "source": [
    "data_of_question.head(10)  # проверяем."
   ]
  },
  {
   "cell_type": "code",
   "execution_count": 26,
   "id": "smart-ferry",
   "metadata": {},
   "outputs": [
    {
     "name": "stdout",
     "output_type": "stream",
     "text": [
      "False\n"
     ]
    }
   ],
   "source": [
    "# Проверяем, остались ли вопросы в основном датасете \"data_sentenes\"\n",
    "print('True') if \"?\" in data_sentenes['Sign'] else print('False')"
   ]
  },
  {
   "cell_type": "markdown",
   "id": "preliminary-grant",
   "metadata": {},
   "source": [
    "## Непосредственно создаем единый датасет содержащий одинаковое количество объектов классов с пропорциональной действительность."
   ]
  },
  {
   "cell_type": "markdown",
   "id": "experimental-stupid",
   "metadata": {},
   "source": [
    "Пробую train.test.split для балансировки - *Ответвление* от тематики."
   ]
  },
  {
   "cell_type": "code",
   "execution_count": 27,
   "id": "dying-heating",
   "metadata": {},
   "outputs": [
    {
     "name": "stdout",
     "output_type": "stream",
     "text": [
      "0.0621\n"
     ]
    }
   ],
   "source": [
    "from sklearn.model_selection import train_test_split\n",
    "percent_qestion_of_sent = round(data_of_question['Sign'].size / data_sentenes['Sign'].size, 4)\n",
    "\n",
    "print(percent_qestion_of_sent)\n",
    "train_sent_data, test_sent_data = train_test_split(data_sentenes, test_size=percent_qestion_of_sent, stratify=data_sentenes.Sign)"
   ]
  },
  {
   "cell_type": "code",
   "execution_count": 28,
   "id": "going-humanitarian",
   "metadata": {},
   "outputs": [
    {
     "name": "stdout",
     "output_type": "stream",
     "text": [
      "(532209, 2)\n"
     ]
    }
   ],
   "source": [
    "print(test_sent_data.shape)"
   ]
  },
  {
   "cell_type": "code",
   "execution_count": 29,
   "id": "unknown-savings",
   "metadata": {},
   "outputs": [],
   "source": [
    "work_dataset = pd.concat([test_sent_data, data_of_question], axis=0)"
   ]
  },
  {
   "cell_type": "code",
   "execution_count": 30,
   "id": "assisted-payment",
   "metadata": {},
   "outputs": [
    {
     "data": {
      "text/plain": [
       "(1064081, 2)"
      ]
     },
     "execution_count": 30,
     "metadata": {},
     "output_type": "execute_result"
    }
   ],
   "source": [
    "work_dataset.shape"
   ]
  },
  {
   "cell_type": "code",
   "execution_count": 31,
   "id": "lightweight-officer",
   "metadata": {},
   "outputs": [
    {
     "data": {
      "text/html": [
       "<div>\n",
       "<style scoped>\n",
       "    .dataframe tbody tr th:only-of-type {\n",
       "        vertical-align: middle;\n",
       "    }\n",
       "\n",
       "    .dataframe tbody tr th {\n",
       "        vertical-align: top;\n",
       "    }\n",
       "\n",
       "    .dataframe thead th {\n",
       "        text-align: right;\n",
       "    }\n",
       "</style>\n",
       "<table border=\"1\" class=\"dataframe\">\n",
       "  <thead>\n",
       "    <tr style=\"text-align: right;\">\n",
       "      <th></th>\n",
       "      <th>Line informatation</th>\n",
       "      <th>Sign</th>\n",
       "    </tr>\n",
       "  </thead>\n",
       "  <tbody>\n",
       "    <tr>\n",
       "      <th>45254</th>\n",
       "      <td>Путин : Там кухня</td>\n",
       "      <td>?</td>\n",
       "    </tr>\n",
       "    <tr>\n",
       "      <th>363593</th>\n",
       "      <td>Интересно , там сильно переживают насчет &amp; quo...</td>\n",
       "      <td>?</td>\n",
       "    </tr>\n",
       "    <tr>\n",
       "      <th>191691</th>\n",
       "      <td>Что Вы предлагаете делать с самообороной , спо...</td>\n",
       "      <td>?</td>\n",
       "    </tr>\n",
       "    <tr>\n",
       "      <th>76269</th>\n",
       "      <td>А еще вопросы о заработках других депутатов за...</td>\n",
       "      <td>?</td>\n",
       "    </tr>\n",
       "    <tr>\n",
       "      <th>235698</th>\n",
       "      <td>Madame , почему такое возбуждение</td>\n",
       "      <td>?</td>\n",
       "    </tr>\n",
       "    <tr>\n",
       "      <th>368134</th>\n",
       "      <td>Не верите</td>\n",
       "      <td>?</td>\n",
       "    </tr>\n",
       "    <tr>\n",
       "      <th>10734735</th>\n",
       "      <td>А имеющиеся у них `` права '' достаточно специ...</td>\n",
       "      <td>.</td>\n",
       "    </tr>\n",
       "    <tr>\n",
       "      <th>488445</th>\n",
       "      <td>[ id250060519|Vatnik ] , вопрос на вопрос</td>\n",
       "      <td>?</td>\n",
       "    </tr>\n",
       "    <tr>\n",
       "      <th>8731640</th>\n",
       "      <td>Мало спал</td>\n",
       "      <td>.</td>\n",
       "    </tr>\n",
       "    <tr>\n",
       "      <th>8236241</th>\n",
       "      <td>Все перерисовали в 1920 на 1280 или это вектор...</td>\n",
       "      <td>.</td>\n",
       "    </tr>\n",
       "  </tbody>\n",
       "</table>\n",
       "</div>"
      ],
      "text/plain": [
       "                                         Line informatation Sign\n",
       "45254                                     Путин : Там кухня    ?\n",
       "363593    Интересно , там сильно переживают насчет & quo...    ?\n",
       "191691    Что Вы предлагаете делать с самообороной , спо...    ?\n",
       "76269     А еще вопросы о заработках других депутатов за...    ?\n",
       "235698                    Madame , почему такое возбуждение    ?\n",
       "368134                                            Не верите    ?\n",
       "10734735  А имеющиеся у них `` права '' достаточно специ...    .\n",
       "488445            [ id250060519|Vatnik ] , вопрос на вопрос    ?\n",
       "8731640                                           Мало спал    .\n",
       "8236241   Все перерисовали в 1920 на 1280 или это вектор...    ."
      ]
     },
     "execution_count": 31,
     "metadata": {},
     "output_type": "execute_result"
    }
   ],
   "source": [
    "from sklearn.utils import shuffle\n",
    "\n",
    "\n",
    "work_dataset = shuffle(work_dataset)\n",
    "work_dataset.head(10)"
   ]
  },
  {
   "cell_type": "code",
   "execution_count": 32,
   "id": "unlike-sydney",
   "metadata": {},
   "outputs": [],
   "source": [
    "work_dataset.index = np.arange(len(work_dataset))"
   ]
  },
  {
   "cell_type": "code",
   "execution_count": 33,
   "id": "celtic-software",
   "metadata": {},
   "outputs": [
    {
     "data": {
      "text/html": [
       "<div>\n",
       "<style scoped>\n",
       "    .dataframe tbody tr th:only-of-type {\n",
       "        vertical-align: middle;\n",
       "    }\n",
       "\n",
       "    .dataframe tbody tr th {\n",
       "        vertical-align: top;\n",
       "    }\n",
       "\n",
       "    .dataframe thead th {\n",
       "        text-align: right;\n",
       "    }\n",
       "</style>\n",
       "<table border=\"1\" class=\"dataframe\">\n",
       "  <thead>\n",
       "    <tr style=\"text-align: right;\">\n",
       "      <th></th>\n",
       "      <th>Line informatation</th>\n",
       "      <th>Sign</th>\n",
       "    </tr>\n",
       "  </thead>\n",
       "  <tbody>\n",
       "    <tr>\n",
       "      <th>0</th>\n",
       "      <td>Путин : Там кухня</td>\n",
       "      <td>?</td>\n",
       "    </tr>\n",
       "    <tr>\n",
       "      <th>1</th>\n",
       "      <td>Интересно , там сильно переживают насчет &amp; quo...</td>\n",
       "      <td>?</td>\n",
       "    </tr>\n",
       "    <tr>\n",
       "      <th>2</th>\n",
       "      <td>Что Вы предлагаете делать с самообороной , спо...</td>\n",
       "      <td>?</td>\n",
       "    </tr>\n",
       "    <tr>\n",
       "      <th>3</th>\n",
       "      <td>А еще вопросы о заработках других депутатов за...</td>\n",
       "      <td>?</td>\n",
       "    </tr>\n",
       "    <tr>\n",
       "      <th>4</th>\n",
       "      <td>Madame , почему такое возбуждение</td>\n",
       "      <td>?</td>\n",
       "    </tr>\n",
       "    <tr>\n",
       "      <th>5</th>\n",
       "      <td>Не верите</td>\n",
       "      <td>?</td>\n",
       "    </tr>\n",
       "    <tr>\n",
       "      <th>6</th>\n",
       "      <td>А имеющиеся у них `` права '' достаточно специ...</td>\n",
       "      <td>.</td>\n",
       "    </tr>\n",
       "    <tr>\n",
       "      <th>7</th>\n",
       "      <td>[ id250060519|Vatnik ] , вопрос на вопрос</td>\n",
       "      <td>?</td>\n",
       "    </tr>\n",
       "    <tr>\n",
       "      <th>8</th>\n",
       "      <td>Мало спал</td>\n",
       "      <td>.</td>\n",
       "    </tr>\n",
       "    <tr>\n",
       "      <th>9</th>\n",
       "      <td>Все перерисовали в 1920 на 1280 или это вектор...</td>\n",
       "      <td>.</td>\n",
       "    </tr>\n",
       "  </tbody>\n",
       "</table>\n",
       "</div>"
      ],
      "text/plain": [
       "                                  Line informatation Sign\n",
       "0                                  Путин : Там кухня    ?\n",
       "1  Интересно , там сильно переживают насчет & quo...    ?\n",
       "2  Что Вы предлагаете делать с самообороной , спо...    ?\n",
       "3  А еще вопросы о заработках других депутатов за...    ?\n",
       "4                  Madame , почему такое возбуждение    ?\n",
       "5                                          Не верите    ?\n",
       "6  А имеющиеся у них `` права '' достаточно специ...    .\n",
       "7          [ id250060519|Vatnik ] , вопрос на вопрос    ?\n",
       "8                                          Мало спал    .\n",
       "9  Все перерисовали в 1920 на 1280 или это вектор...    ."
      ]
     },
     "execution_count": 33,
     "metadata": {},
     "output_type": "execute_result"
    }
   ],
   "source": [
    "work_dataset.head(10)"
   ]
  },
  {
   "cell_type": "code",
   "execution_count": 34,
   "id": "relative-project",
   "metadata": {},
   "outputs": [],
   "source": [
    "work_dataset.to_csv('/home/owl/PycharmProjects/Questions_search_task/dataset_of_questions/work_dataset.csv', sep='\\t')"
   ]
  },
  {
   "cell_type": "code",
   "execution_count": 35,
   "id": "hollywood-moderator",
   "metadata": {},
   "outputs": [
    {
     "data": {
      "text/plain": [
       "?      0.499842\n",
       ".      0.455819\n",
       "!      0.031399\n",
       "...    0.006538\n",
       ":      0.002684\n",
       ";      0.001936\n",
       ",      0.001783\n",
       "Name: Sign, dtype: float64"
      ]
     },
     "execution_count": 35,
     "metadata": {},
     "output_type": "execute_result"
    }
   ],
   "source": [
    "work_dataset['Sign'].value_counts(normalize=True)"
   ]
  },
  {
   "cell_type": "markdown",
   "id": "surrounded-coupon",
   "metadata": {},
   "source": [
    "## ---------------------------------------------------------------------------------------------------------------------------------------------------------"
   ]
  },
  {
   "cell_type": "markdown",
   "id": "spread-anniversary",
   "metadata": {},
   "source": [
    "## **Следующий раздел посвещен векторизации рабочего датасета. Что бы в дальнейшем подавать его на обучение различным моделям.**"
   ]
  },
  {
   "cell_type": "markdown",
   "id": "revolutionary-stage",
   "metadata": {},
   "source": [
    "**pipline** для векторизации **TfidfVectorizer**.\n",
    "\n",
    "\n",
    "\n",
    "Для того что бы получить из предложения вектор.\n",
    "- Важно для начала понять как работает **TfidfVectorizer**. Из чего он состоит, как рассчитывается.\n",
    "- После чего мы должны обучить его. через методо **.fit()** при этом на **fit** мы подаем столбец строк из датасета.\n",
    "- После того как vectorizer обучился. Мы можем получить из него вектора предложений. Но при этом важно понимать что результаты выполненной работы нигде не сохранятся. Плюс ко всему нужно понимать что обрабатывать строки он будет по бачам. \n",
    "- Исходя из вышестоящего пункта появляется необходимость в познании того, как сохранить vectorizer - как записать его в бинарном формате, тоесть *сериализовать* его.\n",
    "- Соответственно после того как мы сохранили vectorizer, нужно знать, как получить информацию зашитую в неём и хранящую результат векторизации строк датасета - *десирилизовать* файл.\n",
    "\n",
    "\n",
    "После чего уже можно будет прописать обучения моделей."
   ]
  },
  {
   "cell_type": "code",
   "execution_count": 37,
   "id": "comic-democrat",
   "metadata": {},
   "outputs": [],
   "source": [
    "# from sklearn.feature_extraction.text import TfidfVectorizer\n",
    "\n"
   ]
  },
  {
   "cell_type": "code",
   "execution_count": null,
   "id": "regional-outline",
   "metadata": {},
   "outputs": [],
   "source": []
  }
 ],
 "metadata": {
  "kernelspec": {
   "display_name": "Python 3",
   "language": "python",
   "name": "python3"
  },
  "language_info": {
   "codemirror_mode": {
    "name": "ipython",
    "version": 3
   },
   "file_extension": ".py",
   "mimetype": "text/x-python",
   "name": "python",
   "nbconvert_exporter": "python",
   "pygments_lexer": "ipython3",
   "version": "3.8.5"
  }
 },
 "nbformat": 4,
 "nbformat_minor": 5
}
