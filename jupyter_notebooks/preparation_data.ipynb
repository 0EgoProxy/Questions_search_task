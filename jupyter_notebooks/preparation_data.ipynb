{
 "cells": [
  {
   "cell_type": "code",
   "execution_count": 1,
   "id": "adopted-patient",
   "metadata": {},
   "outputs": [],
   "source": [
    "import warnings\n",
    "warnings.filterwarnings('ignore')"
   ]
  },
  {
   "cell_type": "code",
   "execution_count": 2,
   "id": "published-sodium",
   "metadata": {},
   "outputs": [],
   "source": [
    "import json\n",
    "import pandas as pd\n",
    "import numpy as np\n",
    "from pathlib import Path\n",
    "\n",
    "\n",
    "from matplotlib import pyplot as plt\n",
    "\n",
    "\n"
   ]
  },
  {
   "cell_type": "code",
   "execution_count": 3,
   "id": "geological-webmaster",
   "metadata": {},
   "outputs": [],
   "source": [
    "## Предоброботка данных\n"
   ]
  },
  {
   "cell_type": "code",
   "execution_count": 4,
   "id": "civilian-bunny",
   "metadata": {},
   "outputs": [],
   "source": [
    "path_work_file = Path('/home/owl/PycharmProjects/Questions_search_task/dataset_of_questions/root_dataset.csv')  # /'root_dataset.txt'\n",
    "\n",
    "data_sentenes = pd.read_csv(path_work_file, sep='\\t', names=['line_information', 'Sign'])"
   ]
  },
  {
   "cell_type": "code",
   "execution_count": 5,
   "id": "moved-stage",
   "metadata": {},
   "outputs": [
    {
     "data": {
      "text/plain": [
       "11214821"
      ]
     },
     "execution_count": 5,
     "metadata": {},
     "output_type": "execute_result"
    }
   ],
   "source": [
    "data_sentenes['Sign'].size"
   ]
  },
  {
   "cell_type": "code",
   "execution_count": 6,
   "id": "gross-capitol",
   "metadata": {},
   "outputs": [
    {
     "data": {
      "text/html": [
       "<div>\n",
       "<style scoped>\n",
       "    .dataframe tbody tr th:only-of-type {\n",
       "        vertical-align: middle;\n",
       "    }\n",
       "\n",
       "    .dataframe tbody tr th {\n",
       "        vertical-align: top;\n",
       "    }\n",
       "\n",
       "    .dataframe thead th {\n",
       "        text-align: right;\n",
       "    }\n",
       "</style>\n",
       "<table border=\"1\" class=\"dataframe\">\n",
       "  <thead>\n",
       "    <tr style=\"text-align: right;\">\n",
       "      <th></th>\n",
       "      <th>line_information</th>\n",
       "      <th>Sign</th>\n",
       "    </tr>\n",
       "  </thead>\n",
       "  <tbody>\n",
       "    <tr>\n",
       "      <th>11214811</th>\n",
       "      <td>Это излучение и фиксируют камеры.Сами органиче...</td>\n",
       "      <td>.</td>\n",
       "    </tr>\n",
       "    <tr>\n",
       "      <th>11214812</th>\n",
       "      <td>Они реагируют на локальную концентрацию кислор...</td>\n",
       "      <td>.</td>\n",
       "    </tr>\n",
       "    <tr>\n",
       "      <th>11214813</th>\n",
       "      <td>Сегодня метод люминисцентных преобразователей ...</td>\n",
       "      <td>.</td>\n",
       "    </tr>\n",
       "    <tr>\n",
       "      <th>11214814</th>\n",
       "      <td>После отработки исследовательского метода разр...</td>\n",
       "      <td>.</td>\n",
       "    </tr>\n",
       "    <tr>\n",
       "      <th>11214815</th>\n",
       "      <td>Так называют один из видов автоколебаний конст...</td>\n",
       "      <td>.</td>\n",
       "    </tr>\n",
       "    <tr>\n",
       "      <th>11214816</th>\n",
       "      <td>Хотя в целом причины возникновения бафтинга из...</td>\n",
       "      <td>.</td>\n",
       "    </tr>\n",
       "    <tr>\n",
       "      <th>11214817</th>\n",
       "      <td>Этот метод не дает высокого разрешения.Помимо ...</td>\n",
       "      <td>.</td>\n",
       "    </tr>\n",
       "    <tr>\n",
       "      <th>11214818</th>\n",
       "      <td>В случае с шелковинками на поверхности модели ...</td>\n",
       "      <td>.</td>\n",
       "    </tr>\n",
       "    <tr>\n",
       "      <th>11214819</th>\n",
       "      <td>По их колебанию и судят об аэродинамической фо...</td>\n",
       "      <td>.</td>\n",
       "    </tr>\n",
       "    <tr>\n",
       "      <th>11214820</th>\n",
       "      <td>В случае с цветной масляной пленкой , некоторы...</td>\n",
       "      <td>Сычёв</td>\n",
       "    </tr>\n",
       "  </tbody>\n",
       "</table>\n",
       "</div>"
      ],
      "text/plain": [
       "                                           line_information   Sign\n",
       "11214811  Это излучение и фиксируют камеры.Сами органиче...      .\n",
       "11214812  Они реагируют на локальную концентрацию кислор...      .\n",
       "11214813  Сегодня метод люминисцентных преобразователей ...      .\n",
       "11214814  После отработки исследовательского метода разр...      .\n",
       "11214815  Так называют один из видов автоколебаний конст...      .\n",
       "11214816  Хотя в целом причины возникновения бафтинга из...      .\n",
       "11214817  Этот метод не дает высокого разрешения.Помимо ...      .\n",
       "11214818  В случае с шелковинками на поверхности модели ...      .\n",
       "11214819  По их колебанию и судят об аэродинамической фо...      .\n",
       "11214820  В случае с цветной масляной пленкой , некоторы...  Сычёв"
      ]
     },
     "execution_count": 6,
     "metadata": {},
     "output_type": "execute_result"
    }
   ],
   "source": [
    "data_sentenes.tail(10)"
   ]
  },
  {
   "cell_type": "code",
   "execution_count": 7,
   "id": "alert-resistance",
   "metadata": {},
   "outputs": [],
   "source": [
    "# from tqdm import tqdm \n",
    "signs = ['?', '.', ';', '!', ',', '...', ':']\n",
    "data_sentenes = data_sentenes.loc[data_sentenes['Sign'].isin(signs)]  # Удаление всех строк, если содержание столбца \"Sign\" нет в списке допустимых символов |signs: List |"
   ]
  },
  {
   "cell_type": "code",
   "execution_count": 8,
   "id": "embedded-sequence",
   "metadata": {},
   "outputs": [
    {
     "data": {
      "text/plain": [
       "9145180"
      ]
     },
     "execution_count": 8,
     "metadata": {},
     "output_type": "execute_result"
    }
   ],
   "source": [
    "data_sentenes['Sign'].size"
   ]
  },
  {
   "cell_type": "code",
   "execution_count": 9,
   "id": "revised-sheffield",
   "metadata": {},
   "outputs": [
    {
     "name": "stdout",
     "output_type": "stream",
     "text": [
      "Предложений с мусором: 0\n",
      "Всего предложений:     9145180\n"
     ]
    }
   ],
   "source": [
    "count_trash = 0\n",
    "all_count = 0\n",
    "for sign in data_sentenes['Sign']:\n",
    "    if sign not in signs:\n",
    "        count_trash += 1\n",
    "    else:\n",
    "        all_count += 1\n",
    "print(f'Предложений с мусором: {count_trash}')\n",
    "print(f'Всего предложений:     {all_count}')"
   ]
  },
  {
   "cell_type": "markdown",
   "id": "elementary-theorem",
   "metadata": {},
   "source": [
    "### Удаление пропущеных значений в строках"
   ]
  },
  {
   "cell_type": "code",
   "execution_count": 10,
   "id": "straight-energy",
   "metadata": {},
   "outputs": [
    {
     "data": {
      "text/plain": [
       "43123"
      ]
     },
     "execution_count": 10,
     "metadata": {},
     "output_type": "execute_result"
    }
   ],
   "source": [
    "data_sentenes['line_information'].isnull().sum()"
   ]
  },
  {
   "cell_type": "code",
   "execution_count": 11,
   "id": "unusual-fisher",
   "metadata": {},
   "outputs": [],
   "source": [
    "data_sentenes = data_sentenes.dropna()"
   ]
  },
  {
   "cell_type": "code",
   "execution_count": 12,
   "id": "banner-addiction",
   "metadata": {},
   "outputs": [
    {
     "data": {
      "text/plain": [
       "0"
      ]
     },
     "execution_count": 12,
     "metadata": {},
     "output_type": "execute_result"
    }
   ],
   "source": [
    "data_sentenes['line_information'].isnull().sum()"
   ]
  },
  {
   "cell_type": "markdown",
   "id": "resistant-running",
   "metadata": {},
   "source": [
    "### Предобработка"
   ]
  },
  {
   "cell_type": "code",
   "execution_count": 13,
   "id": "common-friday",
   "metadata": {},
   "outputs": [
    {
     "name": "stdout",
     "output_type": "stream",
     "text": [
      "{'end_sent_count': {'?': 531872, '.': 7810430, ';': 33169, '!': 538016, ',': 30556, '...': 112030, ':': 45984}}\n",
      "Предложение с мусором: 0\n"
     ]
    }
   ],
   "source": [
    "sign_dict = {'end_sent_count': {'?': 0, '.': 0, ';': 0, '!': 0, ',': 0, '...': 0, ':': 0}}\n",
    "\n",
    "count_error = 0\n",
    "for sign in data_sentenes['Sign']:\n",
    "    if sign in signs:\n",
    "        sign_dict['end_sent_count'][sign] += 1\n",
    "    else:\n",
    "        count_error +=1\n",
    "        \n",
    "print(sign_dict)\n",
    "print(f'Предложение с мусором: {count_error}')"
   ]
  },
  {
   "cell_type": "code",
   "execution_count": 14,
   "id": "proud-ivory",
   "metadata": {},
   "outputs": [
    {
     "data": {
      "text/plain": [
       "9102057"
      ]
     },
     "execution_count": 14,
     "metadata": {},
     "output_type": "execute_result"
    }
   ],
   "source": [
    "data_sentenes['Sign'].size"
   ]
  },
  {
   "cell_type": "code",
   "execution_count": 15,
   "id": "complete-collaboration",
   "metadata": {},
   "outputs": [
    {
     "data": {
      "text/html": [
       "<div>\n",
       "<style scoped>\n",
       "    .dataframe tbody tr th:only-of-type {\n",
       "        vertical-align: middle;\n",
       "    }\n",
       "\n",
       "    .dataframe tbody tr th {\n",
       "        vertical-align: top;\n",
       "    }\n",
       "\n",
       "    .dataframe thead th {\n",
       "        text-align: right;\n",
       "    }\n",
       "</style>\n",
       "<table border=\"1\" class=\"dataframe\">\n",
       "  <thead>\n",
       "    <tr style=\"text-align: right;\">\n",
       "      <th></th>\n",
       "      <th>line_information</th>\n",
       "      <th>Sign</th>\n",
       "    </tr>\n",
       "  </thead>\n",
       "  <tbody>\n",
       "    <tr>\n",
       "      <th>11214810</th>\n",
       "      <td>В ответ на облучение краска начинает испускать...</td>\n",
       "      <td>.</td>\n",
       "    </tr>\n",
       "    <tr>\n",
       "      <th>11214811</th>\n",
       "      <td>Это излучение и фиксируют камеры.Сами органиче...</td>\n",
       "      <td>.</td>\n",
       "    </tr>\n",
       "    <tr>\n",
       "      <th>11214812</th>\n",
       "      <td>Они реагируют на локальную концентрацию кислор...</td>\n",
       "      <td>.</td>\n",
       "    </tr>\n",
       "    <tr>\n",
       "      <th>11214813</th>\n",
       "      <td>Сегодня метод люминисцентных преобразователей ...</td>\n",
       "      <td>.</td>\n",
       "    </tr>\n",
       "    <tr>\n",
       "      <th>11214814</th>\n",
       "      <td>После отработки исследовательского метода разр...</td>\n",
       "      <td>.</td>\n",
       "    </tr>\n",
       "    <tr>\n",
       "      <th>11214815</th>\n",
       "      <td>Так называют один из видов автоколебаний конст...</td>\n",
       "      <td>.</td>\n",
       "    </tr>\n",
       "    <tr>\n",
       "      <th>11214816</th>\n",
       "      <td>Хотя в целом причины возникновения бафтинга из...</td>\n",
       "      <td>.</td>\n",
       "    </tr>\n",
       "    <tr>\n",
       "      <th>11214817</th>\n",
       "      <td>Этот метод не дает высокого разрешения.Помимо ...</td>\n",
       "      <td>.</td>\n",
       "    </tr>\n",
       "    <tr>\n",
       "      <th>11214818</th>\n",
       "      <td>В случае с шелковинками на поверхности модели ...</td>\n",
       "      <td>.</td>\n",
       "    </tr>\n",
       "    <tr>\n",
       "      <th>11214819</th>\n",
       "      <td>По их колебанию и судят об аэродинамической фо...</td>\n",
       "      <td>.</td>\n",
       "    </tr>\n",
       "  </tbody>\n",
       "</table>\n",
       "</div>"
      ],
      "text/plain": [
       "                                           line_information Sign\n",
       "11214810  В ответ на облучение краска начинает испускать...    .\n",
       "11214811  Это излучение и фиксируют камеры.Сами органиче...    .\n",
       "11214812  Они реагируют на локальную концентрацию кислор...    .\n",
       "11214813  Сегодня метод люминисцентных преобразователей ...    .\n",
       "11214814  После отработки исследовательского метода разр...    .\n",
       "11214815  Так называют один из видов автоколебаний конст...    .\n",
       "11214816  Хотя в целом причины возникновения бафтинга из...    .\n",
       "11214817  Этот метод не дает высокого разрешения.Помимо ...    .\n",
       "11214818  В случае с шелковинками на поверхности модели ...    .\n",
       "11214819  По их колебанию и судят об аэродинамической фо...    ."
      ]
     },
     "execution_count": 15,
     "metadata": {},
     "output_type": "execute_result"
    }
   ],
   "source": [
    "data_sentenes.tail(10)"
   ]
  },
  {
   "cell_type": "markdown",
   "id": "random-lying",
   "metadata": {},
   "source": [
    "## ---------------------------------------------------------------------------------------------------------------------------------------------------------"
   ]
  },
  {
   "cell_type": "markdown",
   "id": "realistic-international",
   "metadata": {},
   "source": [
    "Варианты удаления строки из dataframe:\n",
    "    1) фильтруем по одному значению: df = df.loc[df['STP'] != 1005092]\n",
    "    2) можно указать несколько значений: df = df.loc[~df['STP'].isin([1005092])]\n",
    "    Вариант 3: фильтруем по одному значению: df = df.query(\"STP != 1005092\")\n",
    "    Вариант 4: можно указать несколько значений: df = df.query(\"STP not in [1005092, ...]\")\n",
    "    Вариант 5: df = df.drop(np.where(df['STP'] == 1005092)[0])"
   ]
  },
  {
   "cell_type": "code",
   "execution_count": 16,
   "id": "changed-brown",
   "metadata": {},
   "outputs": [],
   "source": [
    "# from tqdm import tqdm \n",
    "\n",
    "# signs = ['?', '.', ';', '!', ',', '...', ':']\n",
    "\n",
    "# for sign in tqdm(enumerate(data_sentenes['Sign']), total=11214821):  # tqdm(enumerate(read_file), total=11214821)\n",
    "#     if sign not in signs:\n",
    "#         data_sentenes.drop(index=data_sentenes.index, inplace=True)"
   ]
  },
  {
   "cell_type": "markdown",
   "id": "greek-blake",
   "metadata": {},
   "source": [
    "## ---------------------------------------------------------------------------------------------------------------------------------------------------------"
   ]
  },
  {
   "cell_type": "markdown",
   "id": "voluntary-retention",
   "metadata": {},
   "source": [
    "# Балансировка классов"
   ]
  },
  {
   "cell_type": "markdown",
   "id": "small-logging",
   "metadata": {},
   "source": [
    "Так как у нас задача бинарной классификации, а именно: важно понять предложение вопросительный характер - \"1\" или нет - \"0\"(То есть все прочие знаки). То Появляется необходимость в соблюдении баланса классво.\n",
    "Если говорить конкретнее: \n",
    "                                     \"?\": 541 126 обьектов КЛАССА - \"1\". \n",
    "                         Столько же обьектов сделаем и для КЛАССА - \"0\".\n",
    "Для упрощения сделаем 540 000 обьектов для классов \"1\", \"0\"\n",
    "\n",
    "\n",
    "При этом важно сохранить пропорцию объектов из класса \"0\". Так как в реальных примерах для модели вероятность встретить предложение определенного характера будет совпадать с нашими данным - исходя их статистики.\n",
    "\n",
    "\n",
    "\n",
    "Для этого посчитаем процентное соотношение обьектов различных знаков по отношению ко всем предложениям за вычетом вопросительных, их в отдельную выборку.\n",
    "после чего через train.test.split поставим необходимое соотношение в оставшейся выборке и соединим её с уже имеющейся выборкой вопросительных знаков"
   ]
  },
  {
   "cell_type": "code",
   "execution_count": 17,
   "id": "prerequisite-calendar",
   "metadata": {},
   "outputs": [],
   "source": [
    "data_of_question = {'line_information': [], 'Sign': []}\n",
    "data_of_question = pd.DataFrame(data_of_question)"
   ]
  },
  {
   "cell_type": "code",
   "execution_count": 18,
   "id": "powerful-community",
   "metadata": {},
   "outputs": [
    {
     "data": {
      "text/html": [
       "<div>\n",
       "<style scoped>\n",
       "    .dataframe tbody tr th:only-of-type {\n",
       "        vertical-align: middle;\n",
       "    }\n",
       "\n",
       "    .dataframe tbody tr th {\n",
       "        vertical-align: top;\n",
       "    }\n",
       "\n",
       "    .dataframe thead th {\n",
       "        text-align: right;\n",
       "    }\n",
       "</style>\n",
       "<table border=\"1\" class=\"dataframe\">\n",
       "  <thead>\n",
       "    <tr style=\"text-align: right;\">\n",
       "      <th></th>\n",
       "      <th>line_information</th>\n",
       "      <th>Sign</th>\n",
       "    </tr>\n",
       "  </thead>\n",
       "  <tbody>\n",
       "  </tbody>\n",
       "</table>\n",
       "</div>"
      ],
      "text/plain": [
       "Empty DataFrame\n",
       "Columns: [line_information, Sign]\n",
       "Index: []"
      ]
     },
     "execution_count": 18,
     "metadata": {},
     "output_type": "execute_result"
    }
   ],
   "source": [
    "data_of_question.head()"
   ]
  },
  {
   "cell_type": "code",
   "execution_count": 19,
   "id": "worthy-slave",
   "metadata": {},
   "outputs": [
    {
     "data": {
      "text/plain": [
       "9102057"
      ]
     },
     "execution_count": 19,
     "metadata": {},
     "output_type": "execute_result"
    }
   ],
   "source": [
    "data_sentenes['Sign'].size"
   ]
  },
  {
   "cell_type": "code",
   "execution_count": 20,
   "id": "sunrise-favorite",
   "metadata": {},
   "outputs": [],
   "source": [
    "data_of_question = data_sentenes.loc[data_sentenes['Sign'] == '?']  # Создаем датасет содержащий только вопросы"
   ]
  },
  {
   "cell_type": "code",
   "execution_count": 21,
   "id": "downtown-snake",
   "metadata": {},
   "outputs": [],
   "source": [
    "data_sentenes = data_sentenes.loc[data_sentenes['Sign'] != '?']  # Избавляемся в основном датасете предложений от предложений с вопросом"
   ]
  },
  {
   "cell_type": "markdown",
   "id": "disciplinary-church",
   "metadata": {},
   "source": [
    "Теперь мы имеем два датасета - **data_of_question** (что содержит только вопросы. Он же датасет класса 1 )\n",
    "и **data_sentenes** (что содержит все предложения кроме вопросительных. Он же датасет класса 0)"
   ]
  },
  {
   "cell_type": "code",
   "execution_count": 22,
   "id": "medium-music",
   "metadata": {},
   "outputs": [
    {
     "name": "stdout",
     "output_type": "stream",
     "text": [
      "8570185\n",
      "531872\n"
     ]
    }
   ],
   "source": [
    "print(data_sentenes['Sign'].size)\n",
    "print(data_of_question['Sign'].size)"
   ]
  },
  {
   "cell_type": "code",
   "execution_count": 23,
   "id": "bigger-simple",
   "metadata": {},
   "outputs": [
    {
     "data": {
      "text/html": [
       "<div>\n",
       "<style scoped>\n",
       "    .dataframe tbody tr th:only-of-type {\n",
       "        vertical-align: middle;\n",
       "    }\n",
       "\n",
       "    .dataframe tbody tr th {\n",
       "        vertical-align: top;\n",
       "    }\n",
       "\n",
       "    .dataframe thead th {\n",
       "        text-align: right;\n",
       "    }\n",
       "</style>\n",
       "<table border=\"1\" class=\"dataframe\">\n",
       "  <thead>\n",
       "    <tr style=\"text-align: right;\">\n",
       "      <th></th>\n",
       "      <th>line_information</th>\n",
       "      <th>Sign</th>\n",
       "    </tr>\n",
       "  </thead>\n",
       "  <tbody>\n",
       "    <tr>\n",
       "      <th>391</th>\n",
       "      <td>Остается главный вопрос – дойдет ли дело до ро...</td>\n",
       "      <td>?</td>\n",
       "    </tr>\n",
       "    <tr>\n",
       "      <th>721</th>\n",
       "      <td>Вопрос - куда</td>\n",
       "      <td>?</td>\n",
       "    </tr>\n",
       "    <tr>\n",
       "      <th>742</th>\n",
       "      <td>« Высотный регламент » или творчество</td>\n",
       "      <td>?</td>\n",
       "    </tr>\n",
       "    <tr>\n",
       "      <th>743</th>\n",
       "      <td>Оживленная дискуссия о современном облике дело...</td>\n",
       "      <td>?</td>\n",
       "    </tr>\n",
       "    <tr>\n",
       "      <th>744</th>\n",
       "      <td>Хотим ли мы , чтобы потомки , рассматривая дос...</td>\n",
       "      <td>?</td>\n",
       "    </tr>\n",
       "    <tr>\n",
       "      <th>745</th>\n",
       "      <td>И какую роль мы , питерцы , для себя отводим :...</td>\n",
       "      <td>?</td>\n",
       "    </tr>\n",
       "    <tr>\n",
       "      <th>783</th>\n",
       "      <td>То же самое касается живописи , театра , кинем...</td>\n",
       "      <td>?</td>\n",
       "    </tr>\n",
       "    <tr>\n",
       "      <th>784</th>\n",
       "      <td>И абсолютно дискуссионным является вопрос о то...</td>\n",
       "      <td>?</td>\n",
       "    </tr>\n",
       "    <tr>\n",
       "      <th>787</th>\n",
       "      <td>К чему это приведет</td>\n",
       "      <td>?</td>\n",
       "    </tr>\n",
       "    <tr>\n",
       "      <th>1225</th>\n",
       "      <td>Но разве можно в марокканской пустыне всем под...</td>\n",
       "      <td>?</td>\n",
       "    </tr>\n",
       "  </tbody>\n",
       "</table>\n",
       "</div>"
      ],
      "text/plain": [
       "                                       line_information Sign\n",
       "391   Остается главный вопрос – дойдет ли дело до ро...    ?\n",
       "721                                       Вопрос - куда    ?\n",
       "742               « Высотный регламент » или творчество    ?\n",
       "743   Оживленная дискуссия о современном облике дело...    ?\n",
       "744   Хотим ли мы , чтобы потомки , рассматривая дос...    ?\n",
       "745   И какую роль мы , питерцы , для себя отводим :...    ?\n",
       "783   То же самое касается живописи , театра , кинем...    ?\n",
       "784   И абсолютно дискуссионным является вопрос о то...    ?\n",
       "787                                 К чему это приведет    ?\n",
       "1225  Но разве можно в марокканской пустыне всем под...    ?"
      ]
     },
     "execution_count": 23,
     "metadata": {},
     "output_type": "execute_result"
    }
   ],
   "source": [
    "data_of_question.head(10)"
   ]
  },
  {
   "cell_type": "code",
   "execution_count": 24,
   "id": "utility-quebec",
   "metadata": {},
   "outputs": [],
   "source": [
    "data_of_question.index = np.arange(len(data_of_question))  #  даем новые, корректные индексы"
   ]
  },
  {
   "cell_type": "code",
   "execution_count": 25,
   "id": "twelve-praise",
   "metadata": {},
   "outputs": [
    {
     "data": {
      "text/html": [
       "<div>\n",
       "<style scoped>\n",
       "    .dataframe tbody tr th:only-of-type {\n",
       "        vertical-align: middle;\n",
       "    }\n",
       "\n",
       "    .dataframe tbody tr th {\n",
       "        vertical-align: top;\n",
       "    }\n",
       "\n",
       "    .dataframe thead th {\n",
       "        text-align: right;\n",
       "    }\n",
       "</style>\n",
       "<table border=\"1\" class=\"dataframe\">\n",
       "  <thead>\n",
       "    <tr style=\"text-align: right;\">\n",
       "      <th></th>\n",
       "      <th>line_information</th>\n",
       "      <th>Sign</th>\n",
       "    </tr>\n",
       "  </thead>\n",
       "  <tbody>\n",
       "    <tr>\n",
       "      <th>0</th>\n",
       "      <td>Остается главный вопрос – дойдет ли дело до ро...</td>\n",
       "      <td>?</td>\n",
       "    </tr>\n",
       "    <tr>\n",
       "      <th>1</th>\n",
       "      <td>Вопрос - куда</td>\n",
       "      <td>?</td>\n",
       "    </tr>\n",
       "    <tr>\n",
       "      <th>2</th>\n",
       "      <td>« Высотный регламент » или творчество</td>\n",
       "      <td>?</td>\n",
       "    </tr>\n",
       "    <tr>\n",
       "      <th>3</th>\n",
       "      <td>Оживленная дискуссия о современном облике дело...</td>\n",
       "      <td>?</td>\n",
       "    </tr>\n",
       "    <tr>\n",
       "      <th>4</th>\n",
       "      <td>Хотим ли мы , чтобы потомки , рассматривая дос...</td>\n",
       "      <td>?</td>\n",
       "    </tr>\n",
       "    <tr>\n",
       "      <th>5</th>\n",
       "      <td>И какую роль мы , питерцы , для себя отводим :...</td>\n",
       "      <td>?</td>\n",
       "    </tr>\n",
       "    <tr>\n",
       "      <th>6</th>\n",
       "      <td>То же самое касается живописи , театра , кинем...</td>\n",
       "      <td>?</td>\n",
       "    </tr>\n",
       "    <tr>\n",
       "      <th>7</th>\n",
       "      <td>И абсолютно дискуссионным является вопрос о то...</td>\n",
       "      <td>?</td>\n",
       "    </tr>\n",
       "    <tr>\n",
       "      <th>8</th>\n",
       "      <td>К чему это приведет</td>\n",
       "      <td>?</td>\n",
       "    </tr>\n",
       "    <tr>\n",
       "      <th>9</th>\n",
       "      <td>Но разве можно в марокканской пустыне всем под...</td>\n",
       "      <td>?</td>\n",
       "    </tr>\n",
       "  </tbody>\n",
       "</table>\n",
       "</div>"
      ],
      "text/plain": [
       "                                    line_information Sign\n",
       "0  Остается главный вопрос – дойдет ли дело до ро...    ?\n",
       "1                                      Вопрос - куда    ?\n",
       "2              « Высотный регламент » или творчество    ?\n",
       "3  Оживленная дискуссия о современном облике дело...    ?\n",
       "4  Хотим ли мы , чтобы потомки , рассматривая дос...    ?\n",
       "5  И какую роль мы , питерцы , для себя отводим :...    ?\n",
       "6  То же самое касается живописи , театра , кинем...    ?\n",
       "7  И абсолютно дискуссионным является вопрос о то...    ?\n",
       "8                                К чему это приведет    ?\n",
       "9  Но разве можно в марокканской пустыне всем под...    ?"
      ]
     },
     "execution_count": 25,
     "metadata": {},
     "output_type": "execute_result"
    }
   ],
   "source": [
    "data_of_question.head(10)  # проверяем."
   ]
  },
  {
   "cell_type": "code",
   "execution_count": 26,
   "id": "split-flesh",
   "metadata": {},
   "outputs": [
    {
     "name": "stdout",
     "output_type": "stream",
     "text": [
      "False\n"
     ]
    }
   ],
   "source": [
    "# Проверяем, остались ли вопросы в основном датасете \"data_sentenes\"\n",
    "print('True') if \"?\" in data_sentenes['Sign'] else print('False')"
   ]
  },
  {
   "cell_type": "markdown",
   "id": "floral-douglas",
   "metadata": {},
   "source": [
    "## Непосредственно создаем единый датасет содержащий одинаковое количество объектов классов с пропорциональной действительность."
   ]
  },
  {
   "cell_type": "markdown",
   "id": "legislative-metabolism",
   "metadata": {},
   "source": [
    "Пробую train.test.split для балансировки - *Ответвление* от тематики."
   ]
  },
  {
   "cell_type": "code",
   "execution_count": 27,
   "id": "average-cooking",
   "metadata": {},
   "outputs": [
    {
     "name": "stdout",
     "output_type": "stream",
     "text": [
      "0.0621\n"
     ]
    }
   ],
   "source": [
    "from sklearn.model_selection import train_test_split\n",
    "percent_qestion_of_sent = round(data_of_question['Sign'].size / data_sentenes['Sign'].size, 4)\n",
    "\n",
    "print(percent_qestion_of_sent)\n",
    "train_sent_data, test_sent_data = train_test_split(data_sentenes, test_size=percent_qestion_of_sent, stratify=data_sentenes.Sign)"
   ]
  },
  {
   "cell_type": "code",
   "execution_count": 28,
   "id": "approximate-aviation",
   "metadata": {},
   "outputs": [
    {
     "name": "stdout",
     "output_type": "stream",
     "text": [
      "(532209, 2)\n"
     ]
    }
   ],
   "source": [
    "print(test_sent_data.shape)"
   ]
  },
  {
   "cell_type": "code",
   "execution_count": 29,
   "id": "accepted-budget",
   "metadata": {},
   "outputs": [],
   "source": [
    "work_dataset = pd.concat([test_sent_data, data_of_question], axis=0)"
   ]
  },
  {
   "cell_type": "code",
   "execution_count": 30,
   "id": "increasing-newman",
   "metadata": {},
   "outputs": [
    {
     "data": {
      "text/plain": [
       "(1064081, 2)"
      ]
     },
     "execution_count": 30,
     "metadata": {},
     "output_type": "execute_result"
    }
   ],
   "source": [
    "work_dataset.shape"
   ]
  },
  {
   "cell_type": "code",
   "execution_count": 31,
   "id": "available-wholesale",
   "metadata": {},
   "outputs": [
    {
     "data": {
      "text/html": [
       "<div>\n",
       "<style scoped>\n",
       "    .dataframe tbody tr th:only-of-type {\n",
       "        vertical-align: middle;\n",
       "    }\n",
       "\n",
       "    .dataframe tbody tr th {\n",
       "        vertical-align: top;\n",
       "    }\n",
       "\n",
       "    .dataframe thead th {\n",
       "        text-align: right;\n",
       "    }\n",
       "</style>\n",
       "<table border=\"1\" class=\"dataframe\">\n",
       "  <thead>\n",
       "    <tr style=\"text-align: right;\">\n",
       "      <th></th>\n",
       "      <th>line_information</th>\n",
       "      <th>Sign</th>\n",
       "    </tr>\n",
       "  </thead>\n",
       "  <tbody>\n",
       "    <tr>\n",
       "      <th>2437066</th>\n",
       "      <td>Совершенно очевидно , что ночное маски-шоу с в...</td>\n",
       "      <td>.</td>\n",
       "    </tr>\n",
       "    <tr>\n",
       "      <th>31714</th>\n",
       "      <td>Хотя , откуда во Львове могут взяться `` колор...</td>\n",
       "      <td>?</td>\n",
       "    </tr>\n",
       "    <tr>\n",
       "      <th>120584</th>\n",
       "      <td>&amp; quot ; Показала &amp; quot ; и каким же это обра...</td>\n",
       "      <td>?</td>\n",
       "    </tr>\n",
       "    <tr>\n",
       "      <th>230416</th>\n",
       "      <td>Неужто товарищ Штатив помог</td>\n",
       "      <td>?</td>\n",
       "    </tr>\n",
       "    <tr>\n",
       "      <th>3499749</th>\n",
       "      <td>Его нашли в подъезде жилого дома</td>\n",
       "      <td>.</td>\n",
       "    </tr>\n",
       "    <tr>\n",
       "      <th>214165</th>\n",
       "      <td>А я чето разве подписывался доказывать</td>\n",
       "      <td>?</td>\n",
       "    </tr>\n",
       "    <tr>\n",
       "      <th>211747</th>\n",
       "      <td>дыаа , только ну вот почему Смоленск Ринг - в ...</td>\n",
       "      <td>?</td>\n",
       "    </tr>\n",
       "    <tr>\n",
       "      <th>4132478</th>\n",
       "      <td>Заседание российской оскаровской комиссии сост...</td>\n",
       "      <td>.</td>\n",
       "    </tr>\n",
       "    <tr>\n",
       "      <th>5379475</th>\n",
       "      <td>Только не ЕР - согласен ! ! !</td>\n",
       "      <td>!</td>\n",
       "    </tr>\n",
       "    <tr>\n",
       "      <th>4583229</th>\n",
       "      <td>- Тема общественного транспорта актуальная , -...</td>\n",
       "      <td>.</td>\n",
       "    </tr>\n",
       "  </tbody>\n",
       "</table>\n",
       "</div>"
      ],
      "text/plain": [
       "                                          line_information Sign\n",
       "2437066  Совершенно очевидно , что ночное маски-шоу с в...    .\n",
       "31714    Хотя , откуда во Львове могут взяться `` колор...    ?\n",
       "120584   & quot ; Показала & quot ; и каким же это обра...    ?\n",
       "230416                         Неужто товарищ Штатив помог    ?\n",
       "3499749                   Его нашли в подъезде жилого дома    .\n",
       "214165              А я чето разве подписывался доказывать    ?\n",
       "211747   дыаа , только ну вот почему Смоленск Ринг - в ...    ?\n",
       "4132478  Заседание российской оскаровской комиссии сост...    .\n",
       "5379475                      Только не ЕР - согласен ! ! !    !\n",
       "4583229  - Тема общественного транспорта актуальная , -...    ."
      ]
     },
     "execution_count": 31,
     "metadata": {},
     "output_type": "execute_result"
    }
   ],
   "source": [
    "from sklearn.utils import shuffle\n",
    "\n",
    "\n",
    "work_dataset = shuffle(work_dataset)\n",
    "work_dataset.head(10)"
   ]
  },
  {
   "cell_type": "code",
   "execution_count": 32,
   "id": "processed-tuesday",
   "metadata": {},
   "outputs": [],
   "source": [
    "work_dataset.index = np.arange(len(work_dataset))"
   ]
  },
  {
   "cell_type": "code",
   "execution_count": 33,
   "id": "persistent-conspiracy",
   "metadata": {},
   "outputs": [
    {
     "data": {
      "text/html": [
       "<div>\n",
       "<style scoped>\n",
       "    .dataframe tbody tr th:only-of-type {\n",
       "        vertical-align: middle;\n",
       "    }\n",
       "\n",
       "    .dataframe tbody tr th {\n",
       "        vertical-align: top;\n",
       "    }\n",
       "\n",
       "    .dataframe thead th {\n",
       "        text-align: right;\n",
       "    }\n",
       "</style>\n",
       "<table border=\"1\" class=\"dataframe\">\n",
       "  <thead>\n",
       "    <tr style=\"text-align: right;\">\n",
       "      <th></th>\n",
       "      <th>line_information</th>\n",
       "      <th>Sign</th>\n",
       "    </tr>\n",
       "  </thead>\n",
       "  <tbody>\n",
       "    <tr>\n",
       "      <th>0</th>\n",
       "      <td>Совершенно очевидно , что ночное маски-шоу с в...</td>\n",
       "      <td>.</td>\n",
       "    </tr>\n",
       "    <tr>\n",
       "      <th>1</th>\n",
       "      <td>Хотя , откуда во Львове могут взяться `` колор...</td>\n",
       "      <td>?</td>\n",
       "    </tr>\n",
       "    <tr>\n",
       "      <th>2</th>\n",
       "      <td>&amp; quot ; Показала &amp; quot ; и каким же это обра...</td>\n",
       "      <td>?</td>\n",
       "    </tr>\n",
       "    <tr>\n",
       "      <th>3</th>\n",
       "      <td>Неужто товарищ Штатив помог</td>\n",
       "      <td>?</td>\n",
       "    </tr>\n",
       "    <tr>\n",
       "      <th>4</th>\n",
       "      <td>Его нашли в подъезде жилого дома</td>\n",
       "      <td>.</td>\n",
       "    </tr>\n",
       "    <tr>\n",
       "      <th>5</th>\n",
       "      <td>А я чето разве подписывался доказывать</td>\n",
       "      <td>?</td>\n",
       "    </tr>\n",
       "    <tr>\n",
       "      <th>6</th>\n",
       "      <td>дыаа , только ну вот почему Смоленск Ринг - в ...</td>\n",
       "      <td>?</td>\n",
       "    </tr>\n",
       "    <tr>\n",
       "      <th>7</th>\n",
       "      <td>Заседание российской оскаровской комиссии сост...</td>\n",
       "      <td>.</td>\n",
       "    </tr>\n",
       "    <tr>\n",
       "      <th>8</th>\n",
       "      <td>Только не ЕР - согласен ! ! !</td>\n",
       "      <td>!</td>\n",
       "    </tr>\n",
       "    <tr>\n",
       "      <th>9</th>\n",
       "      <td>- Тема общественного транспорта актуальная , -...</td>\n",
       "      <td>.</td>\n",
       "    </tr>\n",
       "  </tbody>\n",
       "</table>\n",
       "</div>"
      ],
      "text/plain": [
       "                                    line_information Sign\n",
       "0  Совершенно очевидно , что ночное маски-шоу с в...    .\n",
       "1  Хотя , откуда во Львове могут взяться `` колор...    ?\n",
       "2  & quot ; Показала & quot ; и каким же это обра...    ?\n",
       "3                        Неужто товарищ Штатив помог    ?\n",
       "4                   Его нашли в подъезде жилого дома    .\n",
       "5             А я чето разве подписывался доказывать    ?\n",
       "6  дыаа , только ну вот почему Смоленск Ринг - в ...    ?\n",
       "7  Заседание российской оскаровской комиссии сост...    .\n",
       "8                      Только не ЕР - согласен ! ! !    !\n",
       "9  - Тема общественного транспорта актуальная , -...    ."
      ]
     },
     "execution_count": 33,
     "metadata": {},
     "output_type": "execute_result"
    }
   ],
   "source": [
    "work_dataset.head(10)"
   ]
  },
  {
   "cell_type": "code",
   "execution_count": 34,
   "id": "mature-miller",
   "metadata": {},
   "outputs": [],
   "source": [
    "work_dataset.to_csv('/home/owl/PycharmProjects/Questions_search_task/dataset_of_questions/work_dataset.csv', sep='\\t')"
   ]
  },
  {
   "cell_type": "code",
   "execution_count": 123,
   "id": "parental-tiger",
   "metadata": {},
   "outputs": [],
   "source": [
    "percent_series_sign = work_dataset['Sign'].value_counts(normalize=True).to_dict() "
   ]
  },
  {
   "cell_type": "code",
   "execution_count": 120,
   "id": "seeing-phone",
   "metadata": {},
   "outputs": [
    {
     "data": {
      "text/plain": [
       "{'?': 0.49984164739338455,\n",
       " '.': 0.455818682976202,\n",
       " '!': 0.03139892545774241,\n",
       " '...': 0.006538036108153421,\n",
       " ':': 0.002684006198776221,\n",
       " ';': 0.0019359428464562377,\n",
       " ',': 0.001782759019285186}"
      ]
     },
     "execution_count": 120,
     "metadata": {},
     "output_type": "execute_result"
    }
   ],
   "source": [
    "percent_series_sign"
   ]
  },
  {
   "cell_type": "code",
   "execution_count": 109,
   "id": "collected-cleveland",
   "metadata": {},
   "outputs": [
    {
     "name": "stdout",
     "output_type": "stream",
     "text": [
      "{'?': 0.49984164739338455, '.': 0.455818682976202, '!': 0.03139892545774241, '...': 0.006538036108153421, ':': 0.002684006198776221, ';': 0.0019359428464562377, ',': 0.001782759019285186}\n"
     ]
    }
   ],
   "source": [
    "print(kk)"
   ]
  },
  {
   "cell_type": "code",
   "execution_count": 132,
   "id": "broad-equivalent",
   "metadata": {},
   "outputs": [],
   "source": [
    "work_dataset_statistic = {'shape': work_dataset.shape,\n",
    "                          'value_counts': percent_series_sign,\n",
    "                          'name_culumns': list(work_dataset.columns)}"
   ]
  },
  {
   "cell_type": "code",
   "execution_count": 134,
   "id": "following-suicide",
   "metadata": {},
   "outputs": [
    {
     "data": {
      "text/plain": [
       "{'shape': (1064081, 2),\n",
       " 'value_counts': {'?': 0.49984164739338455,\n",
       "  '.': 0.455818682976202,\n",
       "  '!': 0.03139892545774241,\n",
       "  '...': 0.006538036108153421,\n",
       "  ':': 0.002684006198776221,\n",
       "  ';': 0.0019359428464562377,\n",
       "  ',': 0.001782759019285186},\n",
       " 'name_culumns': ['line_information', 'Sign']}"
      ]
     },
     "execution_count": 134,
     "metadata": {},
     "output_type": "execute_result"
    }
   ],
   "source": [
    "work_dataset_statistic"
   ]
  },
  {
   "cell_type": "markdown",
   "id": "expanded-importance",
   "metadata": {},
   "source": [
    "## ---------------------------------------------------------------------------------------------------------------------------------------------------------"
   ]
  },
  {
   "cell_type": "markdown",
   "id": "sensitive-irrigation",
   "metadata": {},
   "source": [
    "## **Следующий раздел посвещен векторизации рабочего датасета. Что бы в дальнейшем подавать его на обучение различным моделям.**"
   ]
  },
  {
   "cell_type": "markdown",
   "id": "aware-spectacular",
   "metadata": {},
   "source": [
    "**pipline** для векторизации **TfidfVectorizer**.\n",
    "\n",
    "\n",
    "\n",
    "Для того что бы получить из предложения вектор.\n",
    "- Важно для начала понять как работает **TfidfVectorizer**. Из чего он состоит, как рассчитывается.\n",
    "- После чего мы должны обучить его. через методо **.fit()** при этом на **fit** мы подаем столбец строк из датасета.\n",
    "- После того как vectorizer обучился. Мы можем получить из него вектора предложений. Но при этом важно понимать что результаты выполненной работы нигде не сохранятся. Плюс ко всему нужно понимать что обрабатывать строки он будет по бачам. \n",
    "- Исходя из вышестоящего пункта появляется необходимость в познании того, как сохранить vectorizer - как записать его в бинарном формате, тоесть *сериализовать* его.\n",
    "- Соответственно после того как мы сохранили vectorizer, нужно знать, как получить информацию зашитую в неём и хранящую результат векторизации строк датасета - *десирилизовать* файл.\n",
    "\n",
    "\n",
    "После чего уже можно будет прописать обучения моделей."
   ]
  },
  {
   "cell_type": "code",
   "execution_count": 36,
   "id": "other-exhibition",
   "metadata": {},
   "outputs": [],
   "source": [
    "# from sklearn.feature_extraction.text import TfidfVectorizer\n",
    "\n"
   ]
  },
  {
   "cell_type": "code",
   "execution_count": null,
   "id": "liquid-oakland",
   "metadata": {},
   "outputs": [],
   "source": []
  }
 ],
 "metadata": {
  "kernelspec": {
   "display_name": "Python 3",
   "language": "python",
   "name": "python3"
  },
  "language_info": {
   "codemirror_mode": {
    "name": "ipython",
    "version": 3
   },
   "file_extension": ".py",
   "mimetype": "text/x-python",
   "name": "python",
   "nbconvert_exporter": "python",
   "pygments_lexer": "ipython3",
   "version": "3.8.10"
  }
 },
 "nbformat": 4,
 "nbformat_minor": 5
}
