{
 "cells": [
  {
   "cell_type": "markdown",
   "id": "right-bathroom",
   "metadata": {},
   "source": [
    "## **Следующий раздел посвещен векторизации рабочего датасета. Что бы в дальнейшем подавать его на обучение различным моделям.**"
   ]
  },
  {
   "cell_type": "code",
   "execution_count": 1,
   "id": "rubber-participant",
   "metadata": {},
   "outputs": [],
   "source": [
    "import warnings\n",
    "warnings.filterwarnings('ignore')\n",
    "\n",
    "import json\n",
    "import pandas as pd\n",
    "import numpy as np\n",
    "from pathlib import Path\n",
    "\n",
    "from matplotlib import pyplot as plt\n",
    "\n",
    "import warnings\n",
    "warnings.filterwarnings('ignore')"
   ]
  },
  {
   "cell_type": "code",
   "execution_count": 2,
   "id": "least-invalid",
   "metadata": {},
   "outputs": [],
   "source": [
    "path_root = Path('/home/owl/PycharmProjects/Questions_search_task')"
   ]
  },
  {
   "cell_type": "code",
   "execution_count": 3,
   "id": "casual-level",
   "metadata": {},
   "outputs": [],
   "source": [
    "work_dataset = pd.read_csv(path_root / 'dataset_of_questions' /'work_dataset.csv', sep='\\t')\n",
    "work_dataset = work_dataset.drop('Unnamed: 0', axis=1)"
   ]
  },
  {
   "cell_type": "code",
   "execution_count": 4,
   "id": "recent-formula",
   "metadata": {},
   "outputs": [
    {
     "data": {
      "text/html": [
       "<div>\n",
       "<style scoped>\n",
       "    .dataframe tbody tr th:only-of-type {\n",
       "        vertical-align: middle;\n",
       "    }\n",
       "\n",
       "    .dataframe tbody tr th {\n",
       "        vertical-align: top;\n",
       "    }\n",
       "\n",
       "    .dataframe thead th {\n",
       "        text-align: right;\n",
       "    }\n",
       "</style>\n",
       "<table border=\"1\" class=\"dataframe\">\n",
       "  <thead>\n",
       "    <tr style=\"text-align: right;\">\n",
       "      <th></th>\n",
       "      <th>line_information</th>\n",
       "      <th>Sign</th>\n",
       "    </tr>\n",
       "  </thead>\n",
       "  <tbody>\n",
       "    <tr>\n",
       "      <th>0</th>\n",
       "      <td>Все оборудованы эскалаторами , многие лифтами</td>\n",
       "      <td>.</td>\n",
       "    </tr>\n",
       "    <tr>\n",
       "      <th>1</th>\n",
       "      <td>Павел , не соглашусь</td>\n",
       "      <td>.</td>\n",
       "    </tr>\n",
       "    <tr>\n",
       "      <th>2</th>\n",
       "      <td>- Как</td>\n",
       "      <td>?</td>\n",
       "    </tr>\n",
       "    <tr>\n",
       "      <th>3</th>\n",
       "      <td>Во вторник 20 сентября компания Navis Developm...</td>\n",
       "      <td>.</td>\n",
       "    </tr>\n",
       "    <tr>\n",
       "      <th>4</th>\n",
       "      <td>Почему тогда не с ЕР</td>\n",
       "      <td>?</td>\n",
       "    </tr>\n",
       "    <tr>\n",
       "      <th>5</th>\n",
       "      <td>Его можно развернуть за 30 секунд , установить...</td>\n",
       "      <td>.</td>\n",
       "    </tr>\n",
       "    <tr>\n",
       "      <th>6</th>\n",
       "      <td>Я понимаю , что это одно из самых закрытых гос...</td>\n",
       "      <td>?</td>\n",
       "    </tr>\n",
       "    <tr>\n",
       "      <th>7</th>\n",
       "      <td>Анекдот На 9 месяце беременности попросила муж...</td>\n",
       "      <td>.</td>\n",
       "    </tr>\n",
       "    <tr>\n",
       "      <th>8</th>\n",
       "      <td>Чего добиваются</td>\n",
       "      <td>?</td>\n",
       "    </tr>\n",
       "    <tr>\n",
       "      <th>9</th>\n",
       "      <td>Еще в июле нефть торговалась по 147 долларов з...</td>\n",
       "      <td>.</td>\n",
       "    </tr>\n",
       "  </tbody>\n",
       "</table>\n",
       "</div>"
      ],
      "text/plain": [
       "                                    line_information Sign\n",
       "0      Все оборудованы эскалаторами , многие лифтами    .\n",
       "1                               Павел , не соглашусь    .\n",
       "2                                              - Как    ?\n",
       "3  Во вторник 20 сентября компания Navis Developm...    .\n",
       "4                               Почему тогда не с ЕР    ?\n",
       "5  Его можно развернуть за 30 секунд , установить...    .\n",
       "6  Я понимаю , что это одно из самых закрытых гос...    ?\n",
       "7  Анекдот На 9 месяце беременности попросила муж...    .\n",
       "8                                    Чего добиваются    ?\n",
       "9  Еще в июле нефть торговалась по 147 долларов з...    ."
      ]
     },
     "execution_count": 4,
     "metadata": {},
     "output_type": "execute_result"
    }
   ],
   "source": [
    "work_dataset.head(10)"
   ]
  },
  {
   "cell_type": "code",
   "execution_count": 7,
   "id": "mature-polls",
   "metadata": {},
   "outputs": [],
   "source": [
    "# work_dataset.to_csv('/home/owl/PycharmProjects/Questions_search_task/dataset_of_questions/work_dataset.csv', sep='\\t')"
   ]
  },
  {
   "cell_type": "code",
   "execution_count": 5,
   "id": "intellectual-powell",
   "metadata": {},
   "outputs": [],
   "source": [
    "def class_return(sign):\n",
    "    return 1 if sign == '?' else 0\n",
    "\n",
    "\n",
    "work_dataset['label'] = work_dataset['Sign'].apply(class_return)"
   ]
  },
  {
   "cell_type": "code",
   "execution_count": 6,
   "id": "sensitive-tuition",
   "metadata": {},
   "outputs": [
    {
     "data": {
      "text/html": [
       "<div>\n",
       "<style scoped>\n",
       "    .dataframe tbody tr th:only-of-type {\n",
       "        vertical-align: middle;\n",
       "    }\n",
       "\n",
       "    .dataframe tbody tr th {\n",
       "        vertical-align: top;\n",
       "    }\n",
       "\n",
       "    .dataframe thead th {\n",
       "        text-align: right;\n",
       "    }\n",
       "</style>\n",
       "<table border=\"1\" class=\"dataframe\">\n",
       "  <thead>\n",
       "    <tr style=\"text-align: right;\">\n",
       "      <th></th>\n",
       "      <th>line_information</th>\n",
       "      <th>Sign</th>\n",
       "      <th>label</th>\n",
       "    </tr>\n",
       "  </thead>\n",
       "  <tbody>\n",
       "    <tr>\n",
       "      <th>0</th>\n",
       "      <td>Все оборудованы эскалаторами , многие лифтами</td>\n",
       "      <td>.</td>\n",
       "      <td>0</td>\n",
       "    </tr>\n",
       "    <tr>\n",
       "      <th>1</th>\n",
       "      <td>Павел , не соглашусь</td>\n",
       "      <td>.</td>\n",
       "      <td>0</td>\n",
       "    </tr>\n",
       "    <tr>\n",
       "      <th>2</th>\n",
       "      <td>- Как</td>\n",
       "      <td>?</td>\n",
       "      <td>1</td>\n",
       "    </tr>\n",
       "    <tr>\n",
       "      <th>3</th>\n",
       "      <td>Во вторник 20 сентября компания Navis Developm...</td>\n",
       "      <td>.</td>\n",
       "      <td>0</td>\n",
       "    </tr>\n",
       "    <tr>\n",
       "      <th>4</th>\n",
       "      <td>Почему тогда не с ЕР</td>\n",
       "      <td>?</td>\n",
       "      <td>1</td>\n",
       "    </tr>\n",
       "    <tr>\n",
       "      <th>5</th>\n",
       "      <td>Его можно развернуть за 30 секунд , установить...</td>\n",
       "      <td>.</td>\n",
       "      <td>0</td>\n",
       "    </tr>\n",
       "    <tr>\n",
       "      <th>6</th>\n",
       "      <td>Я понимаю , что это одно из самых закрытых гос...</td>\n",
       "      <td>?</td>\n",
       "      <td>1</td>\n",
       "    </tr>\n",
       "    <tr>\n",
       "      <th>7</th>\n",
       "      <td>Анекдот На 9 месяце беременности попросила муж...</td>\n",
       "      <td>.</td>\n",
       "      <td>0</td>\n",
       "    </tr>\n",
       "    <tr>\n",
       "      <th>8</th>\n",
       "      <td>Чего добиваются</td>\n",
       "      <td>?</td>\n",
       "      <td>1</td>\n",
       "    </tr>\n",
       "    <tr>\n",
       "      <th>9</th>\n",
       "      <td>Еще в июле нефть торговалась по 147 долларов з...</td>\n",
       "      <td>.</td>\n",
       "      <td>0</td>\n",
       "    </tr>\n",
       "  </tbody>\n",
       "</table>\n",
       "</div>"
      ],
      "text/plain": [
       "                                    line_information Sign  label\n",
       "0      Все оборудованы эскалаторами , многие лифтами    .      0\n",
       "1                               Павел , не соглашусь    .      0\n",
       "2                                              - Как    ?      1\n",
       "3  Во вторник 20 сентября компания Navis Developm...    .      0\n",
       "4                               Почему тогда не с ЕР    ?      1\n",
       "5  Его можно развернуть за 30 секунд , установить...    .      0\n",
       "6  Я понимаю , что это одно из самых закрытых гос...    ?      1\n",
       "7  Анекдот На 9 месяце беременности попросила муж...    .      0\n",
       "8                                    Чего добиваются    ?      1\n",
       "9  Еще в июле нефть торговалась по 147 долларов з...    .      0"
      ]
     },
     "execution_count": 6,
     "metadata": {},
     "output_type": "execute_result"
    }
   ],
   "source": [
    "work_dataset.head(10)"
   ]
  },
  {
   "cell_type": "markdown",
   "id": "sensitive-broad",
   "metadata": {},
   "source": [
    "**pipline** для векторизации **TfidfVectorizer**.\n",
    "\n",
    "\n",
    "\n",
    "Для того что бы получить из предложения вектор.\n",
    "- Важно для начала понять как работает **TfidfVectorizer**. Из чего он состоит, как рассчитывается.\n",
    "- После чего мы должны обучить его. через методо **.fit()** при этом на **fit** мы подаем столбец строк из датасета.\n",
    "- После того как vectorizer обучился. Мы можем получить из него вектора предложений. Но при этом важно понимать что результаты выполненной работы нигде не сохранятся. Плюс ко всему нужно понимать что обрабатывать строки он будет по бачам. \n",
    "- Исходя из вышестоящего пункта появляется необходимость в познании того, как сохранить vectorizer - как записать его в бинарном формате, тоесть *сериализовать* его.\n",
    "- Соответственно после того как мы сохранили vectorizer, нужно знать, как получить информацию зашитую в неём и хранящую результат векторизации строк датасета - *десирилизовать* файл.\n",
    "\n",
    "\n",
    "После чего уже можно будет прописать обучения моделей."
   ]
  },
  {
   "cell_type": "code",
   "execution_count": 7,
   "id": "ecological-passing",
   "metadata": {},
   "outputs": [],
   "source": [
    "from sklearn.feature_extraction.text import TfidfVectorizer\n",
    "import pickle"
   ]
  },
  {
   "cell_type": "code",
   "execution_count": 9,
   "id": "perceived-tennessee",
   "metadata": {},
   "outputs": [],
   "source": [
    "fit_object = TfidfVectorizer()\n",
    "fit_object.fit(work_dataset['line_information'])\n",
    "\n",
    "with open('fit_vectorizer.pkl', 'wb') as fit_file:\n",
    "    pickle.dump(fit_object, fit_file)"
   ]
  },
  {
   "cell_type": "code",
   "execution_count": 11,
   "id": "abroad-thailand",
   "metadata": {},
   "outputs": [
    {
     "name": "stdout",
     "output_type": "stream",
     "text": [
      "<class 'sklearn.feature_extraction.text.TfidfVectorizer'>\n"
     ]
    }
   ],
   "source": [
    "print(type(fit_object))\n",
    "# print(type(fit_object))"
   ]
  },
  {
   "cell_type": "code",
   "execution_count": null,
   "id": "automated-plaintiff",
   "metadata": {},
   "outputs": [],
   "source": []
  },
  {
   "cell_type": "code",
   "execution_count": 12,
   "id": "sonic-envelope",
   "metadata": {},
   "outputs": [],
   "source": [
    "from sklearn.model_selection import train_test_split"
   ]
  },
  {
   "cell_type": "code",
   "execution_count": 13,
   "id": "dedicated-chest",
   "metadata": {},
   "outputs": [],
   "source": [
    "train_data, test_data, train_label, test_label = train_test_split(work_dataset, work_dataset['label'], test_size=0.3, random_state=0)"
   ]
  },
  {
   "cell_type": "code",
   "execution_count": 14,
   "id": "focused-simple",
   "metadata": {},
   "outputs": [],
   "source": [
    "with open('fit_vectorizer.pkl', 'rb') as file:\n",
    "    work_vectorizer_model = pickle.load(file)"
   ]
  },
  {
   "cell_type": "code",
   "execution_count": 16,
   "id": "moving-witch",
   "metadata": {},
   "outputs": [],
   "source": [
    "fit_work_matrix = fit_object.transform(train_data['line_information'])"
   ]
  },
  {
   "cell_type": "markdown",
   "id": "separate-trash",
   "metadata": {},
   "source": []
  },
  {
   "cell_type": "markdown",
   "id": "therapeutic-jones",
   "metadata": {},
   "source": [
    "## пример для понимания ---------------------------------------------------------------------------------\n",
    "\n",
    "посчитать tf-ifd для слова **Интересно**"
   ]
  },
  {
   "cell_type": "code",
   "execution_count": 14,
   "id": "stretch-mauritius",
   "metadata": {},
   "outputs": [],
   "source": [
    "# print(work_dataset['Line information'][2])\n",
    "# print(work_dataset['Line information'][1])\n",
    "# print(work_dataset['Line information'][4])"
   ]
  },
  {
   "cell_type": "markdown",
   "id": "numeric-third",
   "metadata": {},
   "source": [
    "## -------------------------------------------------------------------------------------------------------------------"
   ]
  },
  {
   "cell_type": "markdown",
   "id": "accomplished-profession",
   "metadata": {},
   "source": []
  },
  {
   "cell_type": "markdown",
   "id": "complimentary-hampshire",
   "metadata": {},
   "source": [
    "### Обучение модели **ЛОГИСТИЧЕСКОЙ РЕГРЕСИИ**"
   ]
  },
  {
   "cell_type": "markdown",
   "id": "forced-clock",
   "metadata": {},
   "source": [
    "### Теория"
   ]
  },
  {
   "cell_type": "markdown",
   "id": "modular-croatia",
   "metadata": {},
   "source": [
    "После осознания того, какую именно задачу требуется решить на этих данных, следующим шагом при реальном анализе был бы подбор подходящего метода. В данном задании выбор метода было произведён за вас, это логистическая регрессия. Кратко напомним вам используемую модель.\n",
    "\n",
    "Логистическая регрессия предсказывает вероятности принадлежности объекта к каждому классу. Сумма ответов логистической регрессии на одном объекте для всех классов равна единице.\n",
    "\n",
    "$$ \\sum_{k=1}^K \\pi_{ik} = 1, \\quad \\pi_k \\equiv P\\,(y_i = k \\mid x_i, \\theta), $$\n",
    "\n",
    "где:\n",
    "- $\\pi_{ik}$ - вероятность принадлежности объекта $x_i$ из выборки $X$ к классу $k$\n",
    "- $\\theta$ - внутренние параметры алгоритма, которые настраиваются в процессе обучения, в случае логистической регрессии - $w, b$\n",
    "\n",
    "Из этого свойства модели в случае бинарной классификации требуется вычислить лишь вероятность принадлежности объекта к одному из классов (вторая вычисляется из условия нормировки вероятностей). Эта вероятность вычисляется, используя логистическую функцию:\n",
    "\n",
    "$$ P\\,(y_i = 1 \\mid x_i, \\theta) = \\frac{1}{1 + \\exp(-w^T x_i-b)} $$\n",
    "\n",
    "Параметры $w$ и $b$ находятся, как решения следующей задачи оптимизации (указаны функционалы с L1 и L2 регуляризацией, с которыми вы познакомились в предыдущих заданиях):\n",
    "\n",
    "L2-regularization:\n",
    "\n",
    "$$ Q(X, y, \\theta) = \\frac{1}{2} w^T w + C \\sum_{i=1}^l \\log ( 1 + \\exp(-y_i (w^T x_i + b ) ) ) \\longrightarrow \\min\\limits_{w,b} $$\n",
    "\n",
    "L1-regularization:\n",
    "\n",
    "$$ Q(X, y, \\theta) = \\sum_{d=1}^D |w_d| + C \\sum_{i=1}^l \\log ( 1 + \\exp(-y_i (w^T x_i + b ) ) ) \\longrightarrow \\min\\limits_{w,b} $$\n",
    "\n",
    "$C$ - это стандартный гиперпараметр модели, который регулирует то, насколько сильно мы позволяем модели подстраиваться под данные."
   ]
  },
  {
   "cell_type": "code",
   "execution_count": 17,
   "id": "outer-feeding",
   "metadata": {},
   "outputs": [
    {
     "data": {
      "text/plain": [
       "(744856, 3)"
      ]
     },
     "execution_count": 17,
     "metadata": {},
     "output_type": "execute_result"
    }
   ],
   "source": [
    "train_data.shape"
   ]
  },
  {
   "cell_type": "code",
   "execution_count": 16,
   "id": "acknowledged-zambia",
   "metadata": {},
   "outputs": [],
   "source": [
    "# Загрузка сохраненного векторайзера\n",
    "# with open('fit_vectorizer.pkl', 'rb') as file:\n",
    "#     work_vectorizer_model = pickle.load(file)\n",
    "#"
   ]
  },
  {
   "cell_type": "code",
   "execution_count": 18,
   "id": "efficient-happening",
   "metadata": {},
   "outputs": [],
   "source": [
    "from sklearn.linear_model import LogisticRegression\n",
    "from sklearn.model_selection import GridSearchCV"
   ]
  },
  {
   "cell_type": "code",
   "execution_count": 19,
   "id": "metric-morocco",
   "metadata": {},
   "outputs": [
    {
     "data": {
      "text/plain": [
       "GridSearchCV(cv=3, estimator=LogisticRegression(),\n",
       "             param_grid={'C': [0.01, 0.05, 0.1, 0.5, 1, 5, 10]})"
      ]
     },
     "execution_count": 19,
     "metadata": {},
     "output_type": "execute_result"
    }
   ],
   "source": [
    "param_grid = {'C': [0.01, 0.05, 0.1, 0.5, 1, 5, 10]}\n",
    "gscv_obj_3 = GridSearchCV(LogisticRegression(), param_grid, cv=3)\n",
    "gscv_obj_3.fit(fit_work_matrix, train_label)"
   ]
  },
  {
   "cell_type": "code",
   "execution_count": null,
   "id": "tribal-stroke",
   "metadata": {},
   "outputs": [],
   "source": [
    "# with open('gscv_obj_3.')"
   ]
  },
  {
   "cell_type": "code",
   "execution_count": null,
   "id": "united-basketball",
   "metadata": {},
   "outputs": [],
   "source": []
  },
  {
   "cell_type": "markdown",
   "id": "handmade-advocacy",
   "metadata": {},
   "source": [
    "## **----------------------------------------------------------------------------"
   ]
  },
  {
   "cell_type": "code",
   "execution_count": 19,
   "id": "pediatric-peninsula",
   "metadata": {},
   "outputs": [],
   "source": [
    "# gscv_obj_5 = GridSearchCV(LogisticRegression(), param_grid, cv=5)\n",
    "# gscv_obj_5.fit(fit_work_matrix, train_label)"
   ]
  },
  {
   "cell_type": "code",
   "execution_count": 20,
   "id": "given-commodity",
   "metadata": {},
   "outputs": [],
   "source": [
    "# def plot_scores(optimizer):\n",
    "#     scores=[]\n",
    "#     for i in range(len(optimizer.cv_results_['params'])):\n",
    "#         scores.append([optimizer.cv_results_['params'][i]['C'], \n",
    "#                 optimizer.cv_results_['mean_test_score'][i],\n",
    "#                 optimizer.cv_results_['std_test_score'][i]])\n",
    "#     scores = np.array(scores)\n",
    "#     plt.semilogx(scores[:,0], scores[:,1])\n",
    "#     plt.fill_between(scores[:,0], scores[:,1]-scores[:,2], \n",
    "#                                   scores[:,1]+scores[:,2], alpha=0.3)\n",
    "#     plt.show()"
   ]
  },
  {
   "cell_type": "code",
   "execution_count": 21,
   "id": "cooked-reputation",
   "metadata": {},
   "outputs": [],
   "source": [
    "# plot_scores(gscv_obj_3)"
   ]
  },
  {
   "cell_type": "markdown",
   "id": "grand-cycling",
   "metadata": {},
   "source": [
    "## **----------------------------------------------------------------------------"
   ]
  },
  {
   "cell_type": "markdown",
   "id": "acceptable-finland",
   "metadata": {},
   "source": [
    "## **Расчет метрик**"
   ]
  },
  {
   "cell_type": "code",
   "execution_count": 20,
   "id": "south-engineer",
   "metadata": {},
   "outputs": [],
   "source": [
    "from sklearn.metrics import precision_score\n",
    "from sklearn.metrics import f1_score\n",
    "from sklearn.metrics import classification_report"
   ]
  },
  {
   "cell_type": "code",
   "execution_count": 22,
   "id": "challenging-colorado",
   "metadata": {},
   "outputs": [],
   "source": [
    "test_work_matrix = fit_object.transform(test_data['line_information'])"
   ]
  },
  {
   "cell_type": "code",
   "execution_count": 23,
   "id": "agricultural-eating",
   "metadata": {},
   "outputs": [],
   "source": [
    "best_model = gscv_obj_3.best_estimator_\n",
    "predict_answer = best_model.predict(test_work_matrix)"
   ]
  },
  {
   "cell_type": "code",
   "execution_count": 28,
   "id": "bibliographic-suggestion",
   "metadata": {},
   "outputs": [
    {
     "data": {
      "text/plain": [
       "array([0, 1, 0, ..., 1, 1, 0])"
      ]
     },
     "execution_count": 28,
     "metadata": {},
     "output_type": "execute_result"
    }
   ],
   "source": [
    "predict_answer"
   ]
  },
  {
   "cell_type": "code",
   "execution_count": 26,
   "id": "similar-mileage",
   "metadata": {},
   "outputs": [],
   "source": [
    "with open('best_model_logreg.pkl', 'wb') as file:\n",
    "    pickle.dump(best_model, file)"
   ]
  },
  {
   "cell_type": "code",
   "execution_count": 25,
   "id": "curious-dryer",
   "metadata": {},
   "outputs": [],
   "source": [
    "precision_count = precision_score(predict_answer, test_label)\n",
    "f1_count = f1_score(predict_answer, test_label)\n",
    "classification_assessment = classification_report(test_label, predict_answer, output_dict=True)"
   ]
  },
  {
   "cell_type": "code",
   "execution_count": 26,
   "id": "approximate-founder",
   "metadata": {},
   "outputs": [],
   "source": [
    "# disp = plot_precision_recall_curve(gscv_obj_3, predict_answer, test_label)\n",
    "# disp.ax_.set_title('2-class Precision-Recall curve: '\n",
    "#                    'AP={0:0.2f}'.format(average_precision))"
   ]
  },
  {
   "cell_type": "code",
   "execution_count": 27,
   "id": "blocked-cologne",
   "metadata": {},
   "outputs": [],
   "source": [
    "# print(f'Метрика precision: {precision_count}')\n",
    "# print(f'Метрика f1: {f1_count}')\n",
    "# print(f'Все метрики: \\n {classification_assessment}')"
   ]
  },
  {
   "cell_type": "code",
   "execution_count": 28,
   "id": "contemporary-dating",
   "metadata": {},
   "outputs": [
    {
     "name": "stdout",
     "output_type": "stream",
     "text": [
      "0 {'precision': 0.8533707510878477, 'recall': 0.8480812740114941, 'f1-score': 0.850717790581808, 'support': 159559}\n",
      "1 {'precision': 0.849117674519934, 'recall': 0.8543772625355429, 'f1-score': 0.8517393489655689, 'support': 159666}\n",
      "accuracy 0.8512303234395803\n",
      "macro avg {'precision': 0.8512442128038908, 'recall': 0.8512292682735185, 'f1-score': 0.8512285697736884, 'support': 319225}\n",
      "weighted avg {'precision': 0.8512435000163697, 'recall': 0.8512303234395803, 'f1-score': 0.8512287409801212, 'support': 319225}\n"
     ]
    }
   ],
   "source": [
    "for key, value in classification_assessment.items():\n",
    "    print(key, value)"
   ]
  },
  {
   "cell_type": "code",
   "execution_count": 29,
   "id": "interior-western",
   "metadata": {},
   "outputs": [
    {
     "data": {
      "text/plain": [
       "Text(0.5, 1.0, '2-class Precision-Recall curve: AP=0.92')"
      ]
     },
     "execution_count": 29,
     "metadata": {},
     "output_type": "execute_result"
    },
    {
     "data": {
      "image/png": "[encoded data removed]",
      "text/plain": [
       "<Figure size 432x288 with 1 Axes>"
      ]
     },
     "metadata": {
      "needs_background": "light"
     },
     "output_type": "display_data"
    }
   ],
   "source": [
    "from sklearn.metrics import precision_recall_curve\n",
    "from sklearn.metrics import plot_precision_recall_curve\n",
    "\n",
    "disp = plot_precision_recall_curve(gscv_obj_3, test_work_matrix, test_label)\n",
    "disp.ax_.set_title(f'2-class Precision-Recall curve: AP={0.92}')"
   ]
  },
  {
   "cell_type": "code",
   "execution_count": 30,
   "id": "structural-citizenship",
   "metadata": {},
   "outputs": [
    {
     "name": "stdout",
     "output_type": "stream",
     "text": [
      "[[135319  24240]\n",
      " [ 23251 136415]]\n"
     ]
    }
   ],
   "source": [
    "from sklearn.metrics import confusion_matrix\n",
    "\n",
    "matrix_erorrs = pd.DataFrame()\n",
    "print(confusion_matrix(test_label, predict_answer))"
   ]
  },
  {
   "cell_type": "code",
   "execution_count": 1,
   "id": "nasty-default",
   "metadata": {},
   "outputs": [
    {
     "ename": "NameError",
     "evalue": "name 'classification_assessment' is not defined",
     "output_type": "error",
     "traceback": [
      "\u001b[0;31m---------------------------------------------------------------------------\u001b[0m",
      "\u001b[0;31mNameError\u001b[0m                                 Traceback (most recent call last)",
      "\u001b[0;32m<ipython-input-1-e10608e6e8a9>\u001b[0m in \u001b[0;36m<module>\u001b[0;34m\u001b[0m\n\u001b[0;32m----> 1\u001b[0;31m \u001b[0;32mfor\u001b[0m \u001b[0mkey\u001b[0m\u001b[0;34m,\u001b[0m \u001b[0mvalue\u001b[0m \u001b[0;32min\u001b[0m \u001b[0mclassification_assessment\u001b[0m\u001b[0;34m.\u001b[0m\u001b[0mitems\u001b[0m\u001b[0;34m(\u001b[0m\u001b[0;34m)\u001b[0m\u001b[0;34m:\u001b[0m\u001b[0;34m\u001b[0m\u001b[0;34m\u001b[0m\u001b[0m\n\u001b[0m\u001b[1;32m      2\u001b[0m     \u001b[0mprint\u001b[0m\u001b[0;34m(\u001b[0m\u001b[0mkey\u001b[0m\u001b[0;34m,\u001b[0m \u001b[0mvalue\u001b[0m\u001b[0;34m)\u001b[0m\u001b[0;34m\u001b[0m\u001b[0;34m\u001b[0m\u001b[0m\n",
      "\u001b[0;31mNameError\u001b[0m: name 'classification_assessment' is not defined"
     ]
    }
   ],
   "source": [
    "for key, value in classification_assessment.items():\n",
    "    print(key, value)"
   ]
  },
  {
   "cell_type": "code",
   "execution_count": null,
   "id": "hungry-pencil",
   "metadata": {},
   "outputs": [],
   "source": []
  }
 ],
 "metadata": {
  "kernelspec": {
   "display_name": "Python 3",
   "language": "python",
   "name": "python3"
  },
  "language_info": {
   "codemirror_mode": {
    "name": "ipython",
    "version": 3
   },
   "file_extension": ".py",
   "mimetype": "text/x-python",
   "name": "python",
   "nbconvert_exporter": "python",
   "pygments_lexer": "ipython3",
   "version": "3.8.10"
  }
 },
 "nbformat": 4,
 "nbformat_minor": 5
}
