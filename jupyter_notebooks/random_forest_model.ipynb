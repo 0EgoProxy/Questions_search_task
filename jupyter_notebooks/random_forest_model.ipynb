{
 "cells": [
  {
   "cell_type": "markdown",
   "id": "interpreted-drain",
   "metadata": {},
   "source": [
    "## **Случайные леса.**\n",
    "### *Обучение модели*"
   ]
  },
  {
   "cell_type": "code",
   "execution_count": 1,
   "id": "sudden-monroe",
   "metadata": {},
   "outputs": [],
   "source": [
    "import json\n",
    "import pandas as pd\n",
    "import numpy as np\n",
    "from pathlib import Path\n",
    "\n",
    "from matplotlib import pyplot as plt\n",
    "\n",
    "import warnings\n",
    "warnings.filterwarnings('ignore')"
   ]
  },
  {
   "cell_type": "code",
   "execution_count": 2,
   "id": "coated-tribune",
   "metadata": {},
   "outputs": [],
   "source": [
    "path_root = Path('/home/owl/PycharmProjects/Questions_search_task')\n",
    "work_dataset_for_forest = pd.read_csv(path_root / 'dataset_of_questions' /'work_dataset.csv', sep='\\t')\n",
    "work_dataset_for_forest = work_dataset_for_forest.drop('Unnamed: 0', axis=1)\n",
    "work_dataset_for_forest.rename(columns={'Line informatation': 'line_information'}, inplace=True)\n",
    "\n",
    "\n",
    "def class_return(sign):\n",
    "    return 1 if sign == '?' else 0\n",
    "\n",
    "\n",
    "work_dataset_for_forest['label'] = work_dataset_for_forest['Sign'].apply(class_return)"
   ]
  },
  {
   "cell_type": "code",
   "execution_count": 3,
   "id": "minor-america",
   "metadata": {},
   "outputs": [],
   "source": [
    "from sklearn.feature_extraction.text import TfidfVectorizer\n",
    "import pickle"
   ]
  },
  {
   "cell_type": "code",
   "execution_count": 4,
   "id": "alert-design",
   "metadata": {},
   "outputs": [],
   "source": [
    "fit_object_forest = TfidfVectorizer()\n",
    "fit_object_forest.fit(work_dataset_for_forest['line_information'])\n",
    "\n",
    "with open('fit_vectorizer', 'wb') as fit_file:\n",
    "    pickle.dump(fit_object_forest, fit_file)"
   ]
  },
  {
   "cell_type": "code",
   "execution_count": 5,
   "id": "intended-vertical",
   "metadata": {},
   "outputs": [],
   "source": [
    "from sklearn.model_selection import train_test_split\n",
    "train_data, test_data, train_label, test_label = train_test_split(work_dataset_for_forest, work_dataset_for_forest['label'], test_size=0.3, random_state=0)\n",
    "\n",
    "fit_data_forest = fit_object_forest.transform(train_data['line_information'])"
   ]
  },
  {
   "cell_type": "code",
   "execution_count": 6,
   "id": "marked-theology",
   "metadata": {},
   "outputs": [],
   "source": [
    "from xgboost import XGBClassifier\n",
    "from sklearn.model_selection import GridSearchCV"
   ]
  },
  {
   "cell_type": "code",
   "execution_count": 7,
   "id": "widespread-subscription",
   "metadata": {},
   "outputs": [],
   "source": [
    "param_test1 = {'max_deth': range(3,10,2), 'min_child_weight': range(1,6,2)}\n",
    "\n",
    "gscv_object1 = GridSearchCV(estimator = XGBClassifier(learning_rate=0.1, \n",
    "                               n_estimators=140, \n",
    "                               max_depth=5, \n",
    "                               min_child_weight=1, \n",
    "                               gamma=0, \n",
    "                               subsample=0.8, \n",
    "                               colsample_bytree=0.8, \n",
    "                               objective= 'binary:logistic', \n",
    "                               nthread=4, \n",
    "                               scale_pos_weight=1, \n",
    "                               seed=27), \n",
    "                            param_grid = param_test1, scoring='f1_macro', n_jobs=6, cv=3)\n",
    "\n"
   ]
  },
  {
   "cell_type": "code",
   "execution_count": 8,
   "id": "imported-springfield",
   "metadata": {},
   "outputs": [
    {
     "name": "stdout",
     "output_type": "stream",
     "text": [
      "[01:53:12] WARNING: ../src/learner.cc:573: \n",
      "Parameters: { \"max_deth\" } might not be used.\n",
      "\n",
      "  This may not be accurate due to some parameters are only used in language bindings but\n",
      "  passed down to XGBoost core.  Or some parameters are not used but slip through this\n",
      "  verification. Please open an issue if you find above cases.\n",
      "\n",
      "\n",
      "[01:53:12] WARNING: ../src/learner.cc:1095: Starting in XGBoost 1.3.0, the default evaluation metric used with the objective 'binary:logistic' was changed from 'error' to 'logloss'. Explicitly set eval_metric if you'd like to restore the old behavior.\n"
     ]
    },
    {
     "data": {
      "text/plain": [
       "GridSearchCV(cv=3,\n",
       "             estimator=XGBClassifier(base_score=None, booster=None,\n",
       "                                     colsample_bylevel=None,\n",
       "                                     colsample_bynode=None,\n",
       "                                     colsample_bytree=0.8, gamma=0, gpu_id=None,\n",
       "                                     importance_type='gain',\n",
       "                                     interaction_constraints=None,\n",
       "                                     learning_rate=0.1, max_delta_step=None,\n",
       "                                     max_depth=5, min_child_weight=1,\n",
       "                                     missing=nan, monotone_constraints=None,\n",
       "                                     n_estimators=140, n_jobs=None, nthread=4,\n",
       "                                     num_parallel_tree=None, random_state=None,\n",
       "                                     reg_alpha=None, reg_lambda=None,\n",
       "                                     scale_pos_weight=1, seed=27, subsample=0.8,\n",
       "                                     tree_method=None, validate_parameters=None,\n",
       "                                     verbosity=None),\n",
       "             n_jobs=6,\n",
       "             param_grid={'max_deth': range(3, 10, 2),\n",
       "                         'min_child_weight': range(1, 6, 2)},\n",
       "             scoring='f1_macro')"
      ]
     },
     "execution_count": 8,
     "metadata": {},
     "output_type": "execute_result"
    }
   ],
   "source": [
    "# gsearch1.grid_scores_, gsearch1.best_params_, gsearch1.best_score_\n",
    "gscv_object1.fit(fit_data_forest, train_label)\n",
    "\n",
    "\n",
    "# print(f\"grid_scores: {gscv_object1.grid_scores_}\")\n",
    "# print(f\"Лучшие параметры: {gscv_object1.best_params_}\")\n",
    "# print(f\"Лучшая оценка: {gscv_object1.best_score_}\")"
   ]
  },
  {
   "cell_type": "code",
   "execution_count": 9,
   "id": "appointed-money",
   "metadata": {},
   "outputs": [
    {
     "data": {
      "text/plain": [
       "{'max_deth': 3, 'min_child_weight': 1}"
      ]
     },
     "execution_count": 9,
     "metadata": {},
     "output_type": "execute_result"
    }
   ],
   "source": [
    "gscv_object1.best_params_"
   ]
  },
  {
   "cell_type": "code",
   "execution_count": 10,
   "id": "automotive-omaha",
   "metadata": {},
   "outputs": [
    {
     "data": {
      "text/plain": [
       "0.7726363398933592"
      ]
     },
     "execution_count": 10,
     "metadata": {},
     "output_type": "execute_result"
    }
   ],
   "source": [
    "gscv_object1.best_score_"
   ]
  },
  {
   "cell_type": "code",
   "execution_count": 11,
   "id": "turned-withdrawal",
   "metadata": {},
   "outputs": [],
   "source": [
    "test_transfrotm = fit_object_forest.transform(test_data['line_information'])\n",
    "\n",
    "best_model = gscv_object1`.best_estimator_\n",
    "predict_answer_f = best_model.predict(test_transfrotm)"
   ]
  },
  {
   "cell_type": "code",
   "execution_count": 12,
   "id": "married-terminal",
   "metadata": {},
   "outputs": [
    {
     "name": "stdout",
     "output_type": "stream",
     "text": [
      "0.776312061327965\n"
     ]
    }
   ],
   "source": [
    "from sklearn.metrics import roc_auc_score\n",
    "rc_score_test = roc_auc_score(test_label, predict_answer_f)\n",
    "print(rc_score_test)"
   ]
  },
  {
   "cell_type": "code",
   "execution_count": 13,
   "id": "collected-distance",
   "metadata": {},
   "outputs": [
    {
     "data": {
      "text/plain": [
       "Text(0.5, 1.0, '2-class Precision-Recall curve: AP=0.88')"
      ]
     },
     "execution_count": 13,
     "metadata": {},
     "output_type": "execute_result"
    },
    {
     "data": {
      "image/png": "[encoded data removed]",
      "text/plain": [
       "<Figure size 432x288 with 1 Axes>"
      ]
     },
     "metadata": {
      "needs_background": "light"
     },
     "output_type": "display_data"
    }
   ],
   "source": [
    "from sklearn.metrics import precision_recall_curve\n",
    "from sklearn.metrics import plot_precision_recall_curve\n",
    "\n",
    "disp = plot_precision_recall_curve(gscv_object1, test_transfrotm, test_label)\n",
    "disp.ax_.set_title(f'2-class Precision-Recall curve: AP={0.88}')"
   ]
  },
  {
   "cell_type": "code",
   "execution_count": 14,
   "id": "happy-working",
   "metadata": {},
   "outputs": [],
   "source": [
    "from sklearn.metrics import classification_report\n",
    "\n",
    "\n",
    "classification_assessment = classification_report(test_label, predict_answer_f, output_dict=True)"
   ]
  },
  {
   "cell_type": "code",
   "execution_count": 15,
   "id": "lesser-irish",
   "metadata": {},
   "outputs": [
    {
     "data": {
      "text/plain": [
       "{'0': {'precision': 0.7214358572383264,\n",
       "  'recall': 0.8998426914182215,\n",
       "  'f1-score': 0.8008232564365713,\n",
       "  'support': 159559},\n",
       " '1': {'precision': 0.8670554372421136,\n",
       "  'recall': 0.6527814312377087,\n",
       "  'f1-score': 0.744813737610496,\n",
       "  'support': 159666},\n",
       " 'accuracy': 0.7762706554937739,\n",
       " 'macro avg': {'precision': 0.79424564724022,\n",
       "  'recall': 0.776312061327965,\n",
       "  'f1-score': 0.7728184970235337,\n",
       "  'support': 319225},\n",
       " 'weighted avg': {'precision': 0.7942700521193183,\n",
       "  'recall': 0.7762706554937739,\n",
       "  'f1-score': 0.7728091101983877,\n",
       "  'support': 319225}}"
      ]
     },
     "execution_count": 15,
     "metadata": {},
     "output_type": "execute_result"
    }
   ],
   "source": [
    "    classification_assessment"
   ]
  },
  {
   "cell_type": "code",
   "execution_count": null,
   "id": "awful-bridges",
   "metadata": {},
   "outputs": [],
   "source": []
  }
 ],
 "metadata": {
  "kernelspec": {
   "display_name": "Python 3",
   "language": "python",
   "name": "python3"
  },
  "language_info": {
   "codemirror_mode": {
    "name": "ipython",
    "version": 3
   },
   "file_extension": ".py",
   "mimetype": "text/x-python",
   "name": "python",
   "nbconvert_exporter": "python",
   "pygments_lexer": "ipython3",
   "version": "3.8.10"
  }
 },
 "nbformat": 4,
 "nbformat_minor": 5
}
